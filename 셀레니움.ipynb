{
 "cells": [
  {
   "cell_type": "code",
   "execution_count": 27,
   "id": "32e3e801",
   "metadata": {},
   "outputs": [],
   "source": [
    "import time\n",
    "import pandas as pd\n",
    "from selenium import webdriver\n",
    "from selenium.webdriver.common.keys import Keys\n",
    "from selenium.webdriver.common.by import By\n",
    "from bs4 import BeautifulSoup"
   ]
  },
  {
   "cell_type": "code",
   "execution_count": 116,
   "id": "f279b1c7",
   "metadata": {},
   "outputs": [],
   "source": [
    "df = pd.read_csv('./최종환승역.csv')"
   ]
  },
  {
   "cell_type": "code",
   "execution_count": 117,
   "id": "008b3db4",
   "metadata": {},
   "outputs": [
    {
     "data": {
      "text/html": [
       "<div>\n",
       "<style scoped>\n",
       "    .dataframe tbody tr th:only-of-type {\n",
       "        vertical-align: middle;\n",
       "    }\n",
       "\n",
       "    .dataframe tbody tr th {\n",
       "        vertical-align: top;\n",
       "    }\n",
       "\n",
       "    .dataframe thead th {\n",
       "        text-align: right;\n",
       "    }\n",
       "</style>\n",
       "<table border=\"1\" class=\"dataframe\">\n",
       "  <thead>\n",
       "    <tr style=\"text-align: right;\">\n",
       "      <th></th>\n",
       "      <th>후보역</th>\n",
       "      <th>지하철역</th>\n",
       "      <th>거리</th>\n",
       "    </tr>\n",
       "  </thead>\n",
       "  <tbody>\n",
       "    <tr>\n",
       "      <th>0</th>\n",
       "      <td>강변(동서울터미널)</td>\n",
       "      <td>광나루(장신대)</td>\n",
       "      <td>1.370774</td>\n",
       "    </tr>\n",
       "    <tr>\n",
       "      <th>1</th>\n",
       "      <td>봉화산(서울의료원)</td>\n",
       "      <td>망우</td>\n",
       "      <td>2.005859</td>\n",
       "    </tr>\n",
       "    <tr>\n",
       "      <th>2</th>\n",
       "      <td>일원</td>\n",
       "      <td>삼전</td>\n",
       "      <td>2.299789</td>\n",
       "    </tr>\n",
       "  </tbody>\n",
       "</table>\n",
       "</div>"
      ],
      "text/plain": [
       "          후보역      지하철역        거리\n",
       "0  강변(동서울터미널)  광나루(장신대)  1.370774\n",
       "1  봉화산(서울의료원)        망우  2.005859\n",
       "2          일원        삼전  2.299789"
      ]
     },
     "execution_count": 117,
     "metadata": {},
     "output_type": "execute_result"
    }
   ],
   "source": [
    "df"
   ]
  },
  {
   "cell_type": "code",
   "execution_count": 129,
   "id": "953e5f51",
   "metadata": {},
   "outputs": [],
   "source": [
    "url = 'https://map.naver.com/v5/subway/1000/-/-/-?c=15,0,0,0,dh'\n",
    "driver = webdriver.Chrome('chromedriver.exe')\n",
    "driver.get(url)"
   ]
  },
  {
   "cell_type": "code",
   "execution_count": 130,
   "id": "4bce7761",
   "metadata": {},
   "outputs": [],
   "source": [
    "df['기존 소요시간'] = ''\n",
    "for i in df.index:\n",
    "    driver.find_element(By.ID, 'input_search_0').click()\n",
    "    time.sleep(0.5)\n",
    "    driver.find_element(By.ID, 'input_search_0').send_keys(df.loc[i, '후보역'].split('(')[0])\n",
    "    time.sleep(0.5)\n",
    "    driver.find_element(By.CLASS_NAME, 'link_station').click()\n",
    "    time.sleep(0.5)\n",
    "    driver.find_element(By.ID, 'input_search_1').click()\n",
    "    time.sleep(0.5)\n",
    "    driver.find_element(By.ID, 'input_search_1').send_keys(df.loc[i, '지하철역'].split('(')[0])\n",
    "    time.sleep(0.5)\n",
    "    driver.find_element(By.CLASS_NAME, 'link_station').click()\n",
    "    time.sleep(1)\n",
    "    soup = BeautifulSoup(driver.page_source, 'html.parser')\n",
    "    time.sleep(3)\n",
    "    df.loc[i, '기존 소요시간'] = soup.select_one('.summary_area .title_box .title').text\n",
    "    time.sleep(2)\n",
    "    \n",
    "    driver.find_element(By.CLASS_NAME, 'btn_clear').click()\n",
    "    time.sleep(3)"
   ]
  },
  {
   "cell_type": "code",
   "execution_count": 131,
   "id": "fb54e77f",
   "metadata": {},
   "outputs": [
    {
     "data": {
      "text/html": [
       "<div>\n",
       "<style scoped>\n",
       "    .dataframe tbody tr th:only-of-type {\n",
       "        vertical-align: middle;\n",
       "    }\n",
       "\n",
       "    .dataframe tbody tr th {\n",
       "        vertical-align: top;\n",
       "    }\n",
       "\n",
       "    .dataframe thead th {\n",
       "        text-align: right;\n",
       "    }\n",
       "</style>\n",
       "<table border=\"1\" class=\"dataframe\">\n",
       "  <thead>\n",
       "    <tr style=\"text-align: right;\">\n",
       "      <th></th>\n",
       "      <th>후보역</th>\n",
       "      <th>지하철역</th>\n",
       "      <th>거리</th>\n",
       "      <th>기존 소요시간</th>\n",
       "      <th>기대 소요시간</th>\n",
       "    </tr>\n",
       "  </thead>\n",
       "  <tbody>\n",
       "    <tr>\n",
       "      <th>0</th>\n",
       "      <td>강변(동서울터미널)</td>\n",
       "      <td>광나루(장신대)</td>\n",
       "      <td>1.370774</td>\n",
       "      <td>21분</td>\n",
       "      <td>2.3</td>\n",
       "    </tr>\n",
       "    <tr>\n",
       "      <th>1</th>\n",
       "      <td>봉화산(서울의료원)</td>\n",
       "      <td>망우</td>\n",
       "      <td>2.005859</td>\n",
       "      <td>22분</td>\n",
       "      <td>3.4</td>\n",
       "    </tr>\n",
       "    <tr>\n",
       "      <th>2</th>\n",
       "      <td>일원</td>\n",
       "      <td>삼전</td>\n",
       "      <td>2.299789</td>\n",
       "      <td>22분</td>\n",
       "      <td>3.9</td>\n",
       "    </tr>\n",
       "  </tbody>\n",
       "</table>\n",
       "</div>"
      ],
      "text/plain": [
       "          후보역      지하철역        거리 기존 소요시간  기대 소요시간\n",
       "0  강변(동서울터미널)  광나루(장신대)  1.370774     21분      2.3\n",
       "1  봉화산(서울의료원)        망우  2.005859     22분      3.4\n",
       "2          일원        삼전  2.299789     22분      3.9"
      ]
     },
     "execution_count": 131,
     "metadata": {},
     "output_type": "execute_result"
    }
   ],
   "source": [
    "df['기대 소요시간'] = round(df['거리']/ 35 * 60, 1)\n",
    "df"
   ]
  },
  {
   "cell_type": "code",
   "execution_count": null,
   "id": "3418a286",
   "metadata": {},
   "outputs": [],
   "source": []
  }
 ],
 "metadata": {
  "kernelspec": {
   "display_name": "Python 3 (ipykernel)",
   "language": "python",
   "name": "python3"
  },
  "language_info": {
   "codemirror_mode": {
    "name": "ipython",
    "version": 3
   },
   "file_extension": ".py",
   "mimetype": "text/x-python",
   "name": "python",
   "nbconvert_exporter": "python",
   "pygments_lexer": "ipython3",
   "version": "3.9.13"
  }
 },
 "nbformat": 4,
 "nbformat_minor": 5
}
