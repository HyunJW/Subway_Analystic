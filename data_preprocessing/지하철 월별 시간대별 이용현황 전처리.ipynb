{
 "cells": [
  {
   "cell_type": "code",
   "execution_count": 1,
   "metadata": {},
   "outputs": [],
   "source": [
    "import pandas as pd"
   ]
  },
  {
   "cell_type": "code",
   "execution_count": 2,
   "metadata": {},
   "outputs": [],
   "source": [
    "# 데이터 로드\n",
    "df = pd.read_csv('../data/수정 전 데이터/서울시 지하철 호선별 역별 시간대별 승하차 인원 정보.csv', encoding='cp949')"
   ]
  },
  {
   "attachments": {},
   "cell_type": "markdown",
   "metadata": {},
   "source": [
    "## 1. 데이터 확인 및 전처리"
   ]
  },
  {
   "cell_type": "code",
   "execution_count": 3,
   "metadata": {},
   "outputs": [
    {
     "data": {
      "text/html": [
       "<div>\n",
       "<style scoped>\n",
       "    .dataframe tbody tr th:only-of-type {\n",
       "        vertical-align: middle;\n",
       "    }\n",
       "\n",
       "    .dataframe tbody tr th {\n",
       "        vertical-align: top;\n",
       "    }\n",
       "\n",
       "    .dataframe thead th {\n",
       "        text-align: right;\n",
       "    }\n",
       "</style>\n",
       "<table border=\"1\" class=\"dataframe\">\n",
       "  <thead>\n",
       "    <tr style=\"text-align: right;\">\n",
       "      <th></th>\n",
       "      <th>사용월</th>\n",
       "      <th>호선명</th>\n",
       "      <th>지하철역</th>\n",
       "      <th>04시-05시 승차인원</th>\n",
       "      <th>04시-05시 하차인원</th>\n",
       "      <th>05시-06시 승차인원</th>\n",
       "      <th>05시-06시 하차인원</th>\n",
       "      <th>06시-07시 승차인원</th>\n",
       "      <th>06시-07시 하차인원</th>\n",
       "      <th>07시-08시 승차인원</th>\n",
       "      <th>...</th>\n",
       "      <th>23시-24시 하차인원</th>\n",
       "      <th>00시-01시 승차인원</th>\n",
       "      <th>00시-01시 하차인원</th>\n",
       "      <th>01시-02시 승차인원</th>\n",
       "      <th>01시-02시 하차인원</th>\n",
       "      <th>02시-03시 승차인원</th>\n",
       "      <th>02시-03시 하차인원</th>\n",
       "      <th>03시-04시 승차인원</th>\n",
       "      <th>03시-04시 하차인원</th>\n",
       "      <th>작업일자</th>\n",
       "    </tr>\n",
       "  </thead>\n",
       "  <tbody>\n",
       "    <tr>\n",
       "      <th>0</th>\n",
       "      <td>202301</td>\n",
       "      <td>1호선</td>\n",
       "      <td>동대문</td>\n",
       "      <td>717</td>\n",
       "      <td>11</td>\n",
       "      <td>9399</td>\n",
       "      <td>1791</td>\n",
       "      <td>7814</td>\n",
       "      <td>5063</td>\n",
       "      <td>11183</td>\n",
       "      <td>...</td>\n",
       "      <td>7667</td>\n",
       "      <td>529</td>\n",
       "      <td>2104</td>\n",
       "      <td>5</td>\n",
       "      <td>254</td>\n",
       "      <td>0</td>\n",
       "      <td>0</td>\n",
       "      <td>0</td>\n",
       "      <td>0</td>\n",
       "      <td>20230203</td>\n",
       "    </tr>\n",
       "    <tr>\n",
       "      <th>1</th>\n",
       "      <td>202301</td>\n",
       "      <td>1호선</td>\n",
       "      <td>동묘앞</td>\n",
       "      <td>176</td>\n",
       "      <td>5</td>\n",
       "      <td>2429</td>\n",
       "      <td>929</td>\n",
       "      <td>3063</td>\n",
       "      <td>4244</td>\n",
       "      <td>5788</td>\n",
       "      <td>...</td>\n",
       "      <td>3400</td>\n",
       "      <td>80</td>\n",
       "      <td>1320</td>\n",
       "      <td>3</td>\n",
       "      <td>330</td>\n",
       "      <td>0</td>\n",
       "      <td>0</td>\n",
       "      <td>0</td>\n",
       "      <td>0</td>\n",
       "      <td>20230203</td>\n",
       "    </tr>\n",
       "    <tr>\n",
       "      <th>2</th>\n",
       "      <td>202301</td>\n",
       "      <td>1호선</td>\n",
       "      <td>서울역</td>\n",
       "      <td>555</td>\n",
       "      <td>27</td>\n",
       "      <td>6560</td>\n",
       "      <td>7430</td>\n",
       "      <td>11059</td>\n",
       "      <td>41800</td>\n",
       "      <td>36434</td>\n",
       "      <td>...</td>\n",
       "      <td>12316</td>\n",
       "      <td>3388</td>\n",
       "      <td>2777</td>\n",
       "      <td>69</td>\n",
       "      <td>235</td>\n",
       "      <td>0</td>\n",
       "      <td>5</td>\n",
       "      <td>0</td>\n",
       "      <td>0</td>\n",
       "      <td>20230203</td>\n",
       "    </tr>\n",
       "    <tr>\n",
       "      <th>3</th>\n",
       "      <td>202301</td>\n",
       "      <td>1호선</td>\n",
       "      <td>시청</td>\n",
       "      <td>95</td>\n",
       "      <td>0</td>\n",
       "      <td>2103</td>\n",
       "      <td>3753</td>\n",
       "      <td>3123</td>\n",
       "      <td>19320</td>\n",
       "      <td>6859</td>\n",
       "      <td>...</td>\n",
       "      <td>3160</td>\n",
       "      <td>353</td>\n",
       "      <td>703</td>\n",
       "      <td>1</td>\n",
       "      <td>22</td>\n",
       "      <td>0</td>\n",
       "      <td>0</td>\n",
       "      <td>0</td>\n",
       "      <td>0</td>\n",
       "      <td>20230203</td>\n",
       "    </tr>\n",
       "    <tr>\n",
       "      <th>4</th>\n",
       "      <td>202301</td>\n",
       "      <td>1호선</td>\n",
       "      <td>신설동</td>\n",
       "      <td>273</td>\n",
       "      <td>6</td>\n",
       "      <td>7568</td>\n",
       "      <td>1962</td>\n",
       "      <td>8198</td>\n",
       "      <td>6829</td>\n",
       "      <td>18129</td>\n",
       "      <td>...</td>\n",
       "      <td>7998</td>\n",
       "      <td>319</td>\n",
       "      <td>1941</td>\n",
       "      <td>3</td>\n",
       "      <td>28</td>\n",
       "      <td>1</td>\n",
       "      <td>0</td>\n",
       "      <td>0</td>\n",
       "      <td>0</td>\n",
       "      <td>20230203</td>\n",
       "    </tr>\n",
       "  </tbody>\n",
       "</table>\n",
       "<p>5 rows × 52 columns</p>\n",
       "</div>"
      ],
      "text/plain": [
       "      사용월  호선명 지하철역  04시-05시 승차인원  04시-05시 하차인원  05시-06시 승차인원  05시-06시 하차인원  \\\n",
       "0  202301  1호선  동대문           717            11          9399          1791   \n",
       "1  202301  1호선  동묘앞           176             5          2429           929   \n",
       "2  202301  1호선  서울역           555            27          6560          7430   \n",
       "3  202301  1호선   시청            95             0          2103          3753   \n",
       "4  202301  1호선  신설동           273             6          7568          1962   \n",
       "\n",
       "   06시-07시 승차인원  06시-07시 하차인원  07시-08시 승차인원  ...  23시-24시 하차인원  00시-01시 승차인원  \\\n",
       "0          7814          5063         11183  ...          7667           529   \n",
       "1          3063          4244          5788  ...          3400            80   \n",
       "2         11059         41800         36434  ...         12316          3388   \n",
       "3          3123         19320          6859  ...          3160           353   \n",
       "4          8198          6829         18129  ...          7998           319   \n",
       "\n",
       "   00시-01시 하차인원  01시-02시 승차인원  01시-02시 하차인원  02시-03시 승차인원  02시-03시 하차인원  \\\n",
       "0          2104             5           254             0             0   \n",
       "1          1320             3           330             0             0   \n",
       "2          2777            69           235             0             5   \n",
       "3           703             1            22             0             0   \n",
       "4          1941             3            28             1             0   \n",
       "\n",
       "   03시-04시 승차인원  03시-04시 하차인원      작업일자  \n",
       "0             0             0  20230203  \n",
       "1             0             0  20230203  \n",
       "2             0             0  20230203  \n",
       "3             0             0  20230203  \n",
       "4             0             0  20230203  \n",
       "\n",
       "[5 rows x 52 columns]"
      ]
     },
     "execution_count": 3,
     "metadata": {},
     "output_type": "execute_result"
    }
   ],
   "source": [
    "df.head()"
   ]
  },
  {
   "cell_type": "code",
   "execution_count": 4,
   "metadata": {},
   "outputs": [
    {
     "name": "stdout",
     "output_type": "stream",
     "text": [
      "<class 'pandas.core.frame.DataFrame'>\n",
      "RangeIndex: 56951 entries, 0 to 56950\n",
      "Data columns (total 52 columns):\n",
      " #   Column        Non-Null Count  Dtype \n",
      "---  ------        --------------  ----- \n",
      " 0   사용월           56951 non-null  int64 \n",
      " 1   호선명           56951 non-null  object\n",
      " 2   지하철역          56951 non-null  object\n",
      " 3   04시-05시 승차인원  56951 non-null  int64 \n",
      " 4   04시-05시 하차인원  56951 non-null  int64 \n",
      " 5   05시-06시 승차인원  56951 non-null  int64 \n",
      " 6   05시-06시 하차인원  56951 non-null  int64 \n",
      " 7   06시-07시 승차인원  56951 non-null  int64 \n",
      " 8   06시-07시 하차인원  56951 non-null  int64 \n",
      " 9   07시-08시 승차인원  56951 non-null  int64 \n",
      " 10  07시-08시 하차인원  56951 non-null  int64 \n",
      " 11  08시-09시 승차인원  56951 non-null  int64 \n",
      " 12  08시-09시 하차인원  56951 non-null  int64 \n",
      " 13  09시-10시 승차인원  56951 non-null  int64 \n",
      " 14  09시-10시 하차인원  56951 non-null  int64 \n",
      " 15  10시-11시 승차인원  56951 non-null  int64 \n",
      " 16  10시-11시 하차인원  56951 non-null  int64 \n",
      " 17  11시-12시 승차인원  56951 non-null  int64 \n",
      " 18  11시-12시 하차인원  56951 non-null  int64 \n",
      " 19  12시-13시 승차인원  56951 non-null  int64 \n",
      " 20  12시-13시 하차인원  56951 non-null  int64 \n",
      " 21  13시-14시 승차인원  56951 non-null  int64 \n",
      " 22  13시-14시 하차인원  56951 non-null  int64 \n",
      " 23  14시-15시 승차인원  56951 non-null  int64 \n",
      " 24  14시-15시 하차인원  56951 non-null  int64 \n",
      " 25  15시-16시 승차인원  56951 non-null  int64 \n",
      " 26  15시-16시 하차인원  56951 non-null  int64 \n",
      " 27  16시-17시 승차인원  56951 non-null  int64 \n",
      " 28  16시-17시 하차인원  56951 non-null  int64 \n",
      " 29  17시-18시 승차인원  56951 non-null  int64 \n",
      " 30  17시-18시 하차인원  56951 non-null  int64 \n",
      " 31  18시-19시 승차인원  56951 non-null  int64 \n",
      " 32  18시-19시 하차인원  56951 non-null  int64 \n",
      " 33  19시-20시 승차인원  56951 non-null  int64 \n",
      " 34  19시-20시 하차인원  56951 non-null  int64 \n",
      " 35  20시-21시 승차인원  56951 non-null  int64 \n",
      " 36  20시-21시 하차인원  56951 non-null  int64 \n",
      " 37  21시-22시 승차인원  56951 non-null  int64 \n",
      " 38  21시-22시 하차인원  56951 non-null  int64 \n",
      " 39  22시-23시 승차인원  56951 non-null  int64 \n",
      " 40  22시-23시 하차인원  56951 non-null  int64 \n",
      " 41  23시-24시 승차인원  56951 non-null  int64 \n",
      " 42  23시-24시 하차인원  56951 non-null  int64 \n",
      " 43  00시-01시 승차인원  56951 non-null  int64 \n",
      " 44  00시-01시 하차인원  56951 non-null  int64 \n",
      " 45  01시-02시 승차인원  56951 non-null  int64 \n",
      " 46  01시-02시 하차인원  56951 non-null  int64 \n",
      " 47  02시-03시 승차인원  56951 non-null  int64 \n",
      " 48  02시-03시 하차인원  56951 non-null  int64 \n",
      " 49  03시-04시 승차인원  56951 non-null  int64 \n",
      " 50  03시-04시 하차인원  56951 non-null  int64 \n",
      " 51  작업일자          56951 non-null  int64 \n",
      "dtypes: int64(50), object(2)\n",
      "memory usage: 22.6+ MB\n"
     ]
    }
   ],
   "source": [
    "df.info()"
   ]
  },
  {
   "cell_type": "code",
   "execution_count": 5,
   "metadata": {},
   "outputs": [],
   "source": [
    "# 사용월의 타입변경(int -> str)\n",
    "df['사용월'] = df['사용월'].astype('str')\n",
    "\n",
    "# 17~21년을 제외한 데이터 삭제\n",
    "df.drop(df[(df['사용월'] < '201701') | (df['사용월'] >= '202201')].index, axis=0, inplace=True)"
   ]
  },
  {
   "cell_type": "code",
   "execution_count": 6,
   "metadata": {},
   "outputs": [
    {
     "data": {
      "text/html": [
       "<div>\n",
       "<style scoped>\n",
       "    .dataframe tbody tr th:only-of-type {\n",
       "        vertical-align: middle;\n",
       "    }\n",
       "\n",
       "    .dataframe tbody tr th {\n",
       "        vertical-align: top;\n",
       "    }\n",
       "\n",
       "    .dataframe thead th {\n",
       "        text-align: right;\n",
       "    }\n",
       "</style>\n",
       "<table border=\"1\" class=\"dataframe\">\n",
       "  <thead>\n",
       "    <tr style=\"text-align: right;\">\n",
       "      <th></th>\n",
       "      <th>사용월</th>\n",
       "      <th>호선명</th>\n",
       "      <th>지하철역</th>\n",
       "      <th>04시-05시 승차인원</th>\n",
       "      <th>04시-05시 하차인원</th>\n",
       "      <th>05시-06시 승차인원</th>\n",
       "      <th>05시-06시 하차인원</th>\n",
       "      <th>06시-07시 승차인원</th>\n",
       "      <th>06시-07시 하차인원</th>\n",
       "      <th>07시-08시 승차인원</th>\n",
       "      <th>...</th>\n",
       "      <th>23시-24시 하차인원</th>\n",
       "      <th>00시-01시 승차인원</th>\n",
       "      <th>00시-01시 하차인원</th>\n",
       "      <th>01시-02시 승차인원</th>\n",
       "      <th>01시-02시 하차인원</th>\n",
       "      <th>02시-03시 승차인원</th>\n",
       "      <th>02시-03시 하차인원</th>\n",
       "      <th>03시-04시 승차인원</th>\n",
       "      <th>03시-04시 하차인원</th>\n",
       "      <th>작업일자</th>\n",
       "    </tr>\n",
       "  </thead>\n",
       "  <tbody>\n",
       "  </tbody>\n",
       "</table>\n",
       "<p>0 rows × 52 columns</p>\n",
       "</div>"
      ],
      "text/plain": [
       "Empty DataFrame\n",
       "Columns: [사용월, 호선명, 지하철역, 04시-05시 승차인원, 04시-05시 하차인원, 05시-06시 승차인원, 05시-06시 하차인원, 06시-07시 승차인원, 06시-07시 하차인원, 07시-08시 승차인원, 07시-08시 하차인원, 08시-09시 승차인원, 08시-09시 하차인원, 09시-10시 승차인원, 09시-10시 하차인원, 10시-11시 승차인원, 10시-11시 하차인원, 11시-12시 승차인원, 11시-12시 하차인원, 12시-13시 승차인원, 12시-13시 하차인원, 13시-14시 승차인원, 13시-14시 하차인원, 14시-15시 승차인원, 14시-15시 하차인원, 15시-16시 승차인원, 15시-16시 하차인원, 16시-17시 승차인원, 16시-17시 하차인원, 17시-18시 승차인원, 17시-18시 하차인원, 18시-19시 승차인원, 18시-19시 하차인원, 19시-20시 승차인원, 19시-20시 하차인원, 20시-21시 승차인원, 20시-21시 하차인원, 21시-22시 승차인원, 21시-22시 하차인원, 22시-23시 승차인원, 22시-23시 하차인원, 23시-24시 승차인원, 23시-24시 하차인원, 00시-01시 승차인원, 00시-01시 하차인원, 01시-02시 승차인원, 01시-02시 하차인원, 02시-03시 승차인원, 02시-03시 하차인원, 03시-04시 승차인원, 03시-04시 하차인원, 작업일자]\n",
       "Index: []\n",
       "\n",
       "[0 rows x 52 columns]"
      ]
     },
     "execution_count": 6,
     "metadata": {},
     "output_type": "execute_result"
    }
   ],
   "source": [
    "# 중복확인\n",
    "df[df.duplicated(df.columns)]"
   ]
  },
  {
   "cell_type": "code",
   "execution_count": 7,
   "metadata": {},
   "outputs": [],
   "source": [
    "# 1시~4시 사이의 데이터를 '1시 이후 승차', '1시 이후 하차'로 변경\n",
    "df['1시이후 승차'] = df[['01시-02시 승차인원', '02시-03시 승차인원', '03시-04시 승차인원']].sum(axis=1)\n",
    "df['1시이후 하차'] = df[['01시-02시 하차인원', '02시-03시 하차인원', '03시-04시 하차인원']].sum(axis=1)"
   ]
  },
  {
   "cell_type": "code",
   "execution_count": 8,
   "metadata": {},
   "outputs": [],
   "source": [
    "# 필요없는 column 삭제\n",
    "df.drop(['01시-02시 승차인원', '02시-03시 승차인원', '03시-04시 승차인원', \n",
    "         '01시-02시 하차인원', '02시-03시 하차인원', '03시-04시 하차인원', '작업일자'], axis=1, inplace=True)"
   ]
  },
  {
   "cell_type": "code",
   "execution_count": 9,
   "metadata": {},
   "outputs": [
    {
     "name": "stdout",
     "output_type": "stream",
     "text": [
      "<class 'pandas.core.frame.DataFrame'>\n",
      "Int64Index: 35625 entries, 7965 to 43589\n",
      "Data columns (total 47 columns):\n",
      " #   Column        Non-Null Count  Dtype \n",
      "---  ------        --------------  ----- \n",
      " 0   사용월           35625 non-null  object\n",
      " 1   호선명           35625 non-null  object\n",
      " 2   지하철역          35625 non-null  object\n",
      " 3   04시-05시 승차인원  35625 non-null  int64 \n",
      " 4   04시-05시 하차인원  35625 non-null  int64 \n",
      " 5   05시-06시 승차인원  35625 non-null  int64 \n",
      " 6   05시-06시 하차인원  35625 non-null  int64 \n",
      " 7   06시-07시 승차인원  35625 non-null  int64 \n",
      " 8   06시-07시 하차인원  35625 non-null  int64 \n",
      " 9   07시-08시 승차인원  35625 non-null  int64 \n",
      " 10  07시-08시 하차인원  35625 non-null  int64 \n",
      " 11  08시-09시 승차인원  35625 non-null  int64 \n",
      " 12  08시-09시 하차인원  35625 non-null  int64 \n",
      " 13  09시-10시 승차인원  35625 non-null  int64 \n",
      " 14  09시-10시 하차인원  35625 non-null  int64 \n",
      " 15  10시-11시 승차인원  35625 non-null  int64 \n",
      " 16  10시-11시 하차인원  35625 non-null  int64 \n",
      " 17  11시-12시 승차인원  35625 non-null  int64 \n",
      " 18  11시-12시 하차인원  35625 non-null  int64 \n",
      " 19  12시-13시 승차인원  35625 non-null  int64 \n",
      " 20  12시-13시 하차인원  35625 non-null  int64 \n",
      " 21  13시-14시 승차인원  35625 non-null  int64 \n",
      " 22  13시-14시 하차인원  35625 non-null  int64 \n",
      " 23  14시-15시 승차인원  35625 non-null  int64 \n",
      " 24  14시-15시 하차인원  35625 non-null  int64 \n",
      " 25  15시-16시 승차인원  35625 non-null  int64 \n",
      " 26  15시-16시 하차인원  35625 non-null  int64 \n",
      " 27  16시-17시 승차인원  35625 non-null  int64 \n",
      " 28  16시-17시 하차인원  35625 non-null  int64 \n",
      " 29  17시-18시 승차인원  35625 non-null  int64 \n",
      " 30  17시-18시 하차인원  35625 non-null  int64 \n",
      " 31  18시-19시 승차인원  35625 non-null  int64 \n",
      " 32  18시-19시 하차인원  35625 non-null  int64 \n",
      " 33  19시-20시 승차인원  35625 non-null  int64 \n",
      " 34  19시-20시 하차인원  35625 non-null  int64 \n",
      " 35  20시-21시 승차인원  35625 non-null  int64 \n",
      " 36  20시-21시 하차인원  35625 non-null  int64 \n",
      " 37  21시-22시 승차인원  35625 non-null  int64 \n",
      " 38  21시-22시 하차인원  35625 non-null  int64 \n",
      " 39  22시-23시 승차인원  35625 non-null  int64 \n",
      " 40  22시-23시 하차인원  35625 non-null  int64 \n",
      " 41  23시-24시 승차인원  35625 non-null  int64 \n",
      " 42  23시-24시 하차인원  35625 non-null  int64 \n",
      " 43  00시-01시 승차인원  35625 non-null  int64 \n",
      " 44  00시-01시 하차인원  35625 non-null  int64 \n",
      " 45  1시이후 승차       35625 non-null  int64 \n",
      " 46  1시이후 하차       35625 non-null  int64 \n",
      "dtypes: int64(44), object(3)\n",
      "memory usage: 13.0+ MB\n"
     ]
    }
   ],
   "source": [
    "df.info()"
   ]
  },
  {
   "cell_type": "code",
   "execution_count": 10,
   "metadata": {},
   "outputs": [
    {
     "data": {
      "text/plain": [
       "array(['1호선', '2호선', '3호선', '4호선', '5호선', '6호선', '7호선', '8호선', '9호선',\n",
       "       '9호선2~3단계', '경강선', '경부선', '경원선', '경의선', '경인선', '경춘선', '공항철도 1호선',\n",
       "       '과천선', '분당선', '수인선', '안산선', '우이신설선', '일산선', '장항선', '중앙선', '9호선2단계'],\n",
       "      dtype=object)"
      ]
     },
     "execution_count": 10,
     "metadata": {},
     "output_type": "execute_result"
    }
   ],
   "source": [
    "df.호선명.unique()"
   ]
  },
  {
   "attachments": {},
   "cell_type": "markdown",
   "metadata": {},
   "source": [
    "### 1호선 전처리"
   ]
  },
  {
   "cell_type": "code",
   "execution_count": 11,
   "metadata": {},
   "outputs": [
    {
     "data": {
      "text/plain": [
       "array(['동대문', '동묘앞', '서울역', '시청', '신설동', '제기동', '종각', '종로3가', '종로5가',\n",
       "       '청량리(서울시립대입구)', '가산디지털단지', '관악', '광명', '구로', '군포', '금정', '금천구청',\n",
       "       '남영', '노량진', '당정', '대방', '독산', '두정', '명학', '병점', '서동탄', '서정리',\n",
       "       '석수', '성균관대', '성환', '세류', '세마', '송탄', '수원', '신길', '신도림', '안양',\n",
       "       '영등포', '오산', '오산대', '용산', '의왕', '직산', '진위', '천안', '평택', '평택지제',\n",
       "       '화서', '가능', '광운대', '녹양', '녹천', '덕계', '덕정', '도봉', '도봉산', '동두천',\n",
       "       '동두천중앙', '망월사', '방학', '보산', '서빙고', '석계', '소요산', '신이문', '양주', '옥수',\n",
       "       '왕십리(성동구청)', '외대앞', '월계', '응봉', '의정부', '이촌(국립중앙박물관)', '지행', '창동',\n",
       "       '한남', '회룡', '간석', '개봉', '구일', '도원', '도화', '동암', '동인천', '백운', '부개',\n",
       "       '부천', '부평', '소사', '송내', '역곡', '오류동', '온수(성공회대입구)', '인천', '제물포',\n",
       "       '주안', '중동', '배방', '봉명', '신창(순천향대)', '쌍용(나사렛대)', '아산', '온양온천', '탕정',\n",
       "       '지제'], dtype=object)"
      ]
     },
     "execution_count": 11,
     "metadata": {},
     "output_type": "execute_result"
    }
   ],
   "source": [
    "# 1호선 역 이름 확인\n",
    "df[(df['호선명'] == '1호선') | (df['호선명'] == '경원선') | (df['호선명'] == '경부선') | (df['호선명'] == '경인선') | (df['호선명'] == '장항선')].지하철역.unique()"
   ]
  },
  {
   "cell_type": "code",
   "execution_count": 12,
   "metadata": {},
   "outputs": [
    {
     "data": {
      "text/plain": [
       "105"
      ]
     },
     "execution_count": 12,
     "metadata": {},
     "output_type": "execute_result"
    }
   ],
   "source": [
    "# 1호선 역의 개수 확인\n",
    "df[(df['호선명'] == '1호선') | (df['호선명'] == '경원선') | (df['호선명'] == '경부선') | (df['호선명'] == '경인선') | (df['호선명'] == '장항선')].지하철역.nunique()"
   ]
  },
  {
   "cell_type": "code",
   "execution_count": 13,
   "metadata": {},
   "outputs": [],
   "source": [
    "# 다르게 표기된 역 이름 수정(지제 -> 평택지제)\n",
    "df.replace('지제', '평택지제', inplace=True)"
   ]
  },
  {
   "cell_type": "code",
   "execution_count": 14,
   "metadata": {},
   "outputs": [],
   "source": [
    "# 잘못된 호선 수정\n",
    "df.loc[(df['지하철역'] == '청량리(서울시립대입구)') & (df['호선명'] == '경원선'), '호선명'] = '중앙선'\n",
    "df.loc[(df['지하철역'] == '이촌(국립중앙박물관)') & (df['호선명'] == '경원선'), '호선명'] = '중앙선'\n",
    "df.loc[(df['지하철역'] == '왕십리(성동구청)') & (df['호선명'] == '경원선'), '호선명'] = '중앙선'\n",
    "df.loc[(df['지하철역'] == '옥수') & (df['호선명'] == '경원선'), '호선명'] = '중앙선'\n",
    "df.loc[(df['지하철역'] == '한남') & (df['호선명'] == '경원선'), '호선명'] = '중앙선'\n",
    "df.loc[(df['지하철역'] == '응봉') & (df['호선명'] == '경원선'), '호선명'] = '중앙선'\n",
    "df.loc[(df['지하철역'] == '서빙고') & (df['호선명'] == '경원선'), '호선명'] = '중앙선'\n",
    "df.loc[(df['지하철역'] == '회기') & (df['호선명'] == '중앙선'), '호선명'] = '1호선'"
   ]
  },
  {
   "cell_type": "code",
   "execution_count": 15,
   "metadata": {},
   "outputs": [
    {
     "name": "stdout",
     "output_type": "stream",
     "text": [
      "60\n",
      "60\n",
      "60\n",
      "60\n",
      "60\n",
      "60\n",
      "60\n",
      "60\n",
      "60\n"
     ]
    }
   ],
   "source": [
    "# 중복일이 있는지 확인\n",
    "print(df[(df['지하철역'].str.contains('지제'))].사용월.count())\n",
    "print(df[(df['지하철역'].str.contains('청량리')) & (df['호선명'] == '중앙선')].사용월.count())\n",
    "print(df[(df['지하철역'].str.contains('이촌')) & (df['호선명'] == '중앙선')].사용월.count())\n",
    "print(df[(df['지하철역'].str.contains('왕십리')) & (df['호선명'] == '중앙선')].사용월.count())\n",
    "print(df[(df['지하철역'].str.contains('옥수')) & (df['호선명'] == '중앙선')].사용월.count())\n",
    "print(df[(df['지하철역'].str.contains('한남')) & (df['호선명'] == '중앙선')].사용월.count())\n",
    "print(df[(df['지하철역'].str.contains('응봉')) & (df['호선명'] == '중앙선')].사용월.count())\n",
    "print(df[(df['지하철역'].str.contains('서빙고')) & (df['호선명'] == '중앙선')].사용월.count())\n",
    "print(df[(df['지하철역'].str.contains('회기')) & (df['호선명'] == '1호선')].사용월.count())"
   ]
  },
  {
   "cell_type": "code",
   "execution_count": 16,
   "metadata": {},
   "outputs": [
    {
     "data": {
      "text/plain": [
       "99"
      ]
     },
     "execution_count": 16,
     "metadata": {},
     "output_type": "execute_result"
    }
   ],
   "source": [
    "# 수정된 역의 개수 확인\n",
    "df[(df['호선명'] == '1호선') | (df['호선명'] == '경원선') | (df['호선명'] == '경부선') | (df['호선명'] == '경인선') | (df['호선명'] == '장항선')].지하철역.nunique()"
   ]
  },
  {
   "cell_type": "code",
   "execution_count": 17,
   "metadata": {},
   "outputs": [
    {
     "data": {
      "text/plain": [
       "array(['1호선'], dtype=object)"
      ]
     },
     "execution_count": 17,
     "metadata": {},
     "output_type": "execute_result"
    }
   ],
   "source": [
    "# 회기역이 중앙선으로 빠짐\n",
    "df.loc[(df['지하철역'].str.contains('회기'))].호선명.unique()"
   ]
  },
  {
   "cell_type": "code",
   "execution_count": 18,
   "metadata": {},
   "outputs": [],
   "source": [
    "# '경원선', '경부선', '경인선', '장항선' -> 1호선\n",
    "df.replace(['경원선', '경부선', '경인선', '장항선'], '1호선', inplace=True)"
   ]
  },
  {
   "attachments": {},
   "cell_type": "markdown",
   "metadata": {},
   "source": [
    "### 2호선 전처리"
   ]
  },
  {
   "cell_type": "code",
   "execution_count": 19,
   "metadata": {},
   "outputs": [
    {
     "data": {
      "text/plain": [
       "array(['강남', '강변(동서울터미널)', '건대입구', '교대(법원.검찰청)', '구로디지털단지', '구의(광진구청)',\n",
       "       '낙성대(강감찬)', '당산', '대림(구로구청)', '도림천', '동대문역사문화공원(DDP)', '뚝섬', '문래',\n",
       "       '방배', '봉천', '사당', '삼성(무역센터)', '상왕십리', '서울대입구(관악구청)', '서초', '선릉',\n",
       "       '성수', '시청', '신답', '신당', '신대방', '신도림', '신림', '신설동', '신정네거리', '신촌',\n",
       "       '아현', '양천구청', '역삼', '영등포구청', '왕십리(성동구청)', '용답', '용두(동대문구청)',\n",
       "       '을지로3가', '을지로4가', '을지로입구', '이대', '잠실(송파구청)', '잠실나루', '잠실새내',\n",
       "       '종합운동장', '충정로(경기대입구)', '한양대', '합정', '홍대입구', '낙성대', '동대문역사문화공원'],\n",
       "      dtype=object)"
      ]
     },
     "execution_count": 19,
     "metadata": {},
     "output_type": "execute_result"
    }
   ],
   "source": [
    "# 2호선 역 이름 확인\n",
    "df[(df['호선명'] == '2호선')].지하철역.unique()"
   ]
  },
  {
   "cell_type": "code",
   "execution_count": 20,
   "metadata": {},
   "outputs": [
    {
     "data": {
      "text/plain": [
       "52"
      ]
     },
     "execution_count": 20,
     "metadata": {},
     "output_type": "execute_result"
    }
   ],
   "source": [
    "# 2호선 역의 개수 확인\n",
    "df[(df['호선명'] == '2호선')].지하철역.nunique()"
   ]
  },
  {
   "cell_type": "code",
   "execution_count": 21,
   "metadata": {},
   "outputs": [],
   "source": [
    "# 다르게 표기된 역 이름 수정\n",
    "df.replace('낙성대(강감찬)', '낙성대', inplace=True)\n",
    "df.replace('동대문역사문화공원(DDP)', '동대문역사문화공원', inplace=True)"
   ]
  },
  {
   "cell_type": "code",
   "execution_count": 22,
   "metadata": {},
   "outputs": [
    {
     "name": "stdout",
     "output_type": "stream",
     "text": [
      "60\n",
      "60\n"
     ]
    }
   ],
   "source": [
    "# 중복일이 있는지 확인\n",
    "print(df[(df['지하철역'].str.contains('낙성대')) & (df['호선명'] == '2호선')].사용월.count())\n",
    "print(df[(df['지하철역'].str.contains('동대문역사')) & (df['호선명'] == '2호선')].사용월.count())"
   ]
  },
  {
   "cell_type": "code",
   "execution_count": 23,
   "metadata": {},
   "outputs": [
    {
     "data": {
      "text/plain": [
       "50"
      ]
     },
     "execution_count": 23,
     "metadata": {},
     "output_type": "execute_result"
    }
   ],
   "source": [
    "# 수정된 역의 개수 확인\n",
    "df[(df['호선명'] == '2호선')].지하철역.nunique()"
   ]
  },
  {
   "attachments": {},
   "cell_type": "markdown",
   "metadata": {},
   "source": [
    "### 3호선 전처리"
   ]
  },
  {
   "cell_type": "code",
   "execution_count": 24,
   "metadata": {},
   "outputs": [
    {
     "data": {
      "text/plain": [
       "array(['가락시장', '경복궁(정부서울청사)', '경찰병원', '고속터미널', '교대(법원.검찰청)', '구파발', '금호',\n",
       "       '남부터미널(예술의전당)', '녹번', '대청', '대치', '도곡', '독립문', '동대입구', '매봉', '무악재',\n",
       "       '불광', '수서', '신사', '안국', '압구정', '약수', '양재(서초구청)', '연신내', '오금', '옥수',\n",
       "       '을지로3가', '일원', '잠원', '종로3가', '지축', '충무로', '학여울', '홍제', '대곡', '대화',\n",
       "       '마두', '백석', '삼송', '원당', '원흥', '정발산', '주엽', '화정'], dtype=object)"
      ]
     },
     "execution_count": 24,
     "metadata": {},
     "output_type": "execute_result"
    }
   ],
   "source": [
    "# 3호선 역 이름 확인\n",
    "df[(df['호선명'] == '3호선') | (df['호선명'] == '일산선')].지하철역.unique()"
   ]
  },
  {
   "cell_type": "code",
   "execution_count": 25,
   "metadata": {},
   "outputs": [
    {
     "data": {
      "text/plain": [
       "44"
      ]
     },
     "execution_count": 25,
     "metadata": {},
     "output_type": "execute_result"
    }
   ],
   "source": [
    "# 3호선 역의 개수 확인\n",
    "df[(df['호선명'] == '3호선') | (df['호선명'] == '일산선')].지하철역.nunique()"
   ]
  },
  {
   "cell_type": "code",
   "execution_count": 26,
   "metadata": {},
   "outputs": [],
   "source": [
    "# '일산선' -> 3호선\n",
    "df.replace('일산선', '3호선', inplace=True)"
   ]
  },
  {
   "attachments": {},
   "cell_type": "markdown",
   "metadata": {},
   "source": [
    "### 4호선 전처리"
   ]
  },
  {
   "cell_type": "code",
   "execution_count": 27,
   "metadata": {},
   "outputs": [
    {
     "data": {
      "text/plain": [
       "array(['길음', '남태령', '노원', '당고개', '동대문', '동대문역사문화공원', '동작(현충원)', '명동',\n",
       "       '미아(서울사이버대학)', '미아사거리', '사당', '삼각지', '상계', '서울역', '성신여대입구(돈암)',\n",
       "       '수유(강북구청)', '숙대입구(갈월)', '신용산', '쌍문', '이촌(국립중앙박물관)', '창동',\n",
       "       '총신대입구(이수)', '충무로', '한성대입구(삼선교)', '혜화', '회현(남대문시장)', '경마공원', '과천',\n",
       "       '대공원', '범계', '선바위', '인덕원', '정부과천청사', '평촌', '고잔', '대야미', '반월', '산본',\n",
       "       '상록수', '수리산', '신길온천', '안산', '오이도', '정왕', '중앙', '초지', '한대앞'],\n",
       "      dtype=object)"
      ]
     },
     "execution_count": 27,
     "metadata": {},
     "output_type": "execute_result"
    }
   ],
   "source": [
    "# 4호선 역 이름 확인\n",
    "df[(df['호선명'] == '4호선') | (df['호선명'] == '안산선') | (df['호선명'] == '과천선')].지하철역.unique()"
   ]
  },
  {
   "cell_type": "code",
   "execution_count": 28,
   "metadata": {},
   "outputs": [
    {
     "data": {
      "text/plain": [
       "47"
      ]
     },
     "execution_count": 28,
     "metadata": {},
     "output_type": "execute_result"
    }
   ],
   "source": [
    "# 4호선 역의 개수 확인\n",
    "df[(df['호선명'] == '4호선') | (df['호선명'] == '안산선') | (df['호선명'] == '과천선')].지하철역.nunique()"
   ]
  },
  {
   "cell_type": "code",
   "execution_count": 29,
   "metadata": {},
   "outputs": [],
   "source": [
    "# 다르게 표기된 역 이름 수정\n",
    "df.replace('총신대입구(이수)', '이수', inplace=True)\n",
    "df.replace('미아(서울사이버대학)', '미아', inplace=True)\n",
    "df.replace('성신여대입구(돈암)', '성신여대입구', inplace=True)"
   ]
  },
  {
   "cell_type": "code",
   "execution_count": 30,
   "metadata": {},
   "outputs": [
    {
     "name": "stdout",
     "output_type": "stream",
     "text": [
      "120\n",
      "60\n"
     ]
    }
   ],
   "source": [
    "# 중복일이 있는지 확인\n",
    "print(df[(df['지하철역'].str.contains('미아')) & (df['호선명'] == '4호선')].사용월.count()) # 미아사거리도 포함\n",
    "print(df[(df['지하철역'].str.contains('성신여대')) & (df['호선명'] == '4호선')].사용월.count())"
   ]
  },
  {
   "cell_type": "code",
   "execution_count": 31,
   "metadata": {},
   "outputs": [
    {
     "data": {
      "text/plain": [
       "47"
      ]
     },
     "execution_count": 31,
     "metadata": {},
     "output_type": "execute_result"
    }
   ],
   "source": [
    "# 수정된 역의 개수 확인\n",
    "df[(df['호선명'] == '4호선') | (df['호선명'] == '안산선') | (df['호선명'] == '과천선')].지하철역.nunique()"
   ]
  },
  {
   "cell_type": "code",
   "execution_count": 32,
   "metadata": {},
   "outputs": [
    {
     "data": {
      "text/plain": [
       "array(['1호선'], dtype=object)"
      ]
     },
     "execution_count": 32,
     "metadata": {},
     "output_type": "execute_result"
    }
   ],
   "source": [
    "# 금정역이 1호선으로 빠짐\n",
    "df.loc[(df['지하철역'].str.contains('금정'))].호선명.unique()"
   ]
  },
  {
   "cell_type": "code",
   "execution_count": 33,
   "metadata": {},
   "outputs": [],
   "source": [
    "# '안산선','과천선' -> 4호선\n",
    "df.replace(['안산선','과천선'], '4호선', inplace=True)"
   ]
  },
  {
   "attachments": {},
   "cell_type": "markdown",
   "metadata": {},
   "source": [
    "### 5호선 전처리"
   ]
  },
  {
   "cell_type": "code",
   "execution_count": 34,
   "metadata": {},
   "outputs": [
    {
     "data": {
      "text/plain": [
       "array(['강동', '강일', '개롱', '개화산', '거여', '고덕', '공덕', '광나루(장신대)',\n",
       "       '광화문(세종문화회관)', '군자(능동)', '굽은다리(강동구민회관앞)', '길동', '김포공항', '까치산',\n",
       "       '답십리', '동대문역사문화공원', '둔촌동', '마곡', '마장', '마천', '마포', '명일', '목동',\n",
       "       '미사', '발산', '방이', '방화', '상일동', '서대문', '송정', '신금호', '신길', '신정(은행정)',\n",
       "       '아차산(어린이대공원후문)', '애오개', '양평', '여의나루', '여의도', '영등포구청', '영등포시장',\n",
       "       '오금', '오목교(목동운동장앞)', '올림픽공원(한국체대)', '왕십리(성동구청)', '우장산', '을지로4가',\n",
       "       '장한평', '종로3가', '천호(풍납토성)', '청구', '충정로(경기대입구)', '하남검단산',\n",
       "       '하남시청(덕풍?신장)', '하남풍산', '행당', '화곡'], dtype=object)"
      ]
     },
     "execution_count": 34,
     "metadata": {},
     "output_type": "execute_result"
    }
   ],
   "source": [
    "# 5호선 역 이름 확인\n",
    "df[(df['호선명'] == '5호선') | (df['호선명'] == '하남선')].지하철역.unique()"
   ]
  },
  {
   "cell_type": "code",
   "execution_count": 35,
   "metadata": {},
   "outputs": [
    {
     "data": {
      "text/plain": [
       "56"
      ]
     },
     "execution_count": 35,
     "metadata": {},
     "output_type": "execute_result"
    }
   ],
   "source": [
    "# 5호선 역의 개수 확인\n",
    "df[(df['호선명'] == '5호선') | (df['호선명'] == '하남선')].지하철역.nunique()"
   ]
  },
  {
   "cell_type": "code",
   "execution_count": 36,
   "metadata": {},
   "outputs": [],
   "source": [
    "# 이상하게 표기된 역 이름 수정\n",
    "df.replace('하남시청(덕풍?신장)', '하남시청', inplace=True)"
   ]
  },
  {
   "cell_type": "code",
   "execution_count": 37,
   "metadata": {},
   "outputs": [],
   "source": [
    "# '하남선' -> 5호선\n",
    "df.replace('하남선', '5호선', inplace=True)"
   ]
  },
  {
   "attachments": {},
   "cell_type": "markdown",
   "metadata": {},
   "source": [
    "### 6호선 전처리"
   ]
  },
  {
   "cell_type": "code",
   "execution_count": 38,
   "metadata": {},
   "outputs": [
    {
     "data": {
      "text/plain": [
       "array(['고려대(종암)', '공덕', '광흥창(서강)', '구산', '녹사평(용산구청)', '대흥(서강대앞)', '독바위',\n",
       "       '돌곶이', '동묘앞', '디지털미디어시티', '마포구청', '망원', '버티고개', '보문', '봉화산(서울의료원)',\n",
       "       '불광', '삼각지', '상수', '상월곡(한국과학기술연구원)', '새절(신사)', '석계', '신내', '신당',\n",
       "       '안암(고대병원앞)', '약수', '역촌', '연신내', '월곡(동덕여대)', '월드컵경기장(성산)', '응암',\n",
       "       '이태원', '증산(명지대앞)', '창신', '청구', '태릉입구', '한강진', '합정', '화랑대(서울여대입구)',\n",
       "       '효창공원앞'], dtype=object)"
      ]
     },
     "execution_count": 38,
     "metadata": {},
     "output_type": "execute_result"
    }
   ],
   "source": [
    "# 6호선 역 이름 확인\n",
    "df[(df['호선명'] == '6호선')].지하철역.unique()"
   ]
  },
  {
   "cell_type": "code",
   "execution_count": 39,
   "metadata": {},
   "outputs": [
    {
     "data": {
      "text/plain": [
       "39"
      ]
     },
     "execution_count": 39,
     "metadata": {},
     "output_type": "execute_result"
    }
   ],
   "source": [
    "# 6호선 역의 개수 확인\n",
    "df[(df['호선명'] == '6호선')].지하철역.nunique()"
   ]
  },
  {
   "attachments": {},
   "cell_type": "markdown",
   "metadata": {},
   "source": [
    "### 7호선 전처리"
   ]
  },
  {
   "cell_type": "code",
   "execution_count": 40,
   "metadata": {},
   "outputs": [
    {
     "data": {
      "text/plain": [
       "array(['가산디지털단지', '강남구청', '건대입구', '고속터미널', '공릉(서울과학기술대)', '광명사거리',\n",
       "       '군자(능동)', '굴포천', '까치울', '남구로', '남성', '내방', '노원', '논현', '대림(구로구청)',\n",
       "       '도봉산', '뚝섬유원지', '마들', '먹골', '면목', '반포', '보라매', '부천시청', '부천종합운동장',\n",
       "       '부평구청', '사가정', '삼산체육관', '상도', '상동', '상봉(시외버스터미널)', '수락산',\n",
       "       '숭실대입구(살피재)', '신대방삼거리', '신중동', '신풍', '어린이대공원(세종대)', '온수(성공회대입구)',\n",
       "       '용마산(용마폭포공원)', '이수', '장승배기', '장암', '중계', '중곡', '중화', '천왕', '철산',\n",
       "       '청담', '춘의', '태릉입구', '하계', '학동', '용마산'], dtype=object)"
      ]
     },
     "execution_count": 40,
     "metadata": {},
     "output_type": "execute_result"
    }
   ],
   "source": [
    "# 7호선 역 이름 확인\n",
    "df[(df['호선명'] == '7호선')].지하철역.unique()"
   ]
  },
  {
   "cell_type": "code",
   "execution_count": 41,
   "metadata": {},
   "outputs": [
    {
     "data": {
      "text/plain": [
       "52"
      ]
     },
     "execution_count": 41,
     "metadata": {},
     "output_type": "execute_result"
    }
   ],
   "source": [
    "# 7호선 역의 개수 확인\n",
    "df[(df['호선명'] == '7호선')].지하철역.nunique()"
   ]
  },
  {
   "cell_type": "code",
   "execution_count": 42,
   "metadata": {},
   "outputs": [],
   "source": [
    "# 다르게 표기된 역 이름 수정(용마산(용마폭포공원) -> 용마산)\n",
    "df.replace('용마산(용마폭포공원)', '용마산', inplace=True)"
   ]
  },
  {
   "cell_type": "code",
   "execution_count": 43,
   "metadata": {},
   "outputs": [
    {
     "data": {
      "text/plain": [
       "51"
      ]
     },
     "execution_count": 43,
     "metadata": {},
     "output_type": "execute_result"
    }
   ],
   "source": [
    "# 수정된 역의 개수 확인\n",
    "df[(df['호선명'] == '7호선')].지하철역.nunique()"
   ]
  },
  {
   "attachments": {},
   "cell_type": "markdown",
   "metadata": {},
   "source": [
    "### 8호선 전처리"
   ]
  },
  {
   "cell_type": "code",
   "execution_count": 44,
   "metadata": {},
   "outputs": [
    {
     "data": {
      "text/plain": [
       "array(['가락시장', '강동구청', '남위례', '남한산성입구(성남법원.검찰청)', '단대오거리', '모란',\n",
       "       '몽촌토성(평화의문)', '문정', '복정', '산성', '석촌', '송파', '수진', '신흥', '암사',\n",
       "       '잠실(송파구청)', '장지', '천호(풍납토성)'], dtype=object)"
      ]
     },
     "execution_count": 44,
     "metadata": {},
     "output_type": "execute_result"
    }
   ],
   "source": [
    "# 8호선 역 이름 확인\n",
    "df[(df['호선명'] == '8호선')].지하철역.unique()"
   ]
  },
  {
   "cell_type": "code",
   "execution_count": 45,
   "metadata": {},
   "outputs": [
    {
     "data": {
      "text/plain": [
       "18"
      ]
     },
     "execution_count": 45,
     "metadata": {},
     "output_type": "execute_result"
    }
   ],
   "source": [
    "# 8호선 역의 개수 확인\n",
    "df[(df['호선명'] == '8호선')].지하철역.nunique()"
   ]
  },
  {
   "attachments": {},
   "cell_type": "markdown",
   "metadata": {},
   "source": [
    "### 9호선 전처리"
   ]
  },
  {
   "cell_type": "code",
   "execution_count": 46,
   "metadata": {},
   "outputs": [
    {
     "data": {
      "text/plain": [
       "array(['가양', '개화', '고속터미널', '공항시장', '구반포', '국회의사당', '김포공항', '노들', '노량진',\n",
       "       '당산', '동작(현충원)', '등촌', '마곡나루(서울식물원)', '사평', '샛강', '선유도', '신논현',\n",
       "       '신목동', '신반포', '신방화', '양천향교', '여의도', '염창', '증미', '흑석(중앙대입구)',\n",
       "       '둔촌오륜', '봉은사', '삼성중앙', '삼전', '석촌', '석촌고분', '선정릉', '송파나루', '언주',\n",
       "       '올림픽공원(한국체대)', '종합운동장', '중앙보훈병원', '한성백제', '마곡나루'], dtype=object)"
      ]
     },
     "execution_count": 46,
     "metadata": {},
     "output_type": "execute_result"
    }
   ],
   "source": [
    "# 9호선 역 이름 확인\n",
    "df[(df['호선명'] == '9호선') | (df['호선명'] == '9호선2~3단계') | (df['호선명'] == '9호선2단계')].지하철역.unique()"
   ]
  },
  {
   "cell_type": "code",
   "execution_count": 47,
   "metadata": {},
   "outputs": [
    {
     "data": {
      "text/plain": [
       "39"
      ]
     },
     "execution_count": 47,
     "metadata": {},
     "output_type": "execute_result"
    }
   ],
   "source": [
    "# 9호선 역의 개수 확인\n",
    "df[(df['호선명'] == '9호선') | (df['호선명'] == '9호선2~3단계') | (df['호선명'] == '9호선2단계')].지하철역.nunique()"
   ]
  },
  {
   "cell_type": "code",
   "execution_count": 48,
   "metadata": {},
   "outputs": [],
   "source": [
    "# 다르게 표기된 역 이름 수정\n",
    "df.replace('마곡나루(서울식물원)', '마곡나루', inplace=True)"
   ]
  },
  {
   "cell_type": "code",
   "execution_count": 49,
   "metadata": {},
   "outputs": [
    {
     "name": "stdout",
     "output_type": "stream",
     "text": [
      "60\n",
      "60\n"
     ]
    }
   ],
   "source": [
    "# 중복일이 있는지 확인\n",
    "print(df[(df['지하철역'].str.contains('마곡나루')) & (df['호선명'].str.contains('9호선'))].사용월.count())\n",
    "print(df[(df['지하철역'].str.contains('종합운동장')) & (df['호선명'].str.contains('9호선'))].사용월.count())"
   ]
  },
  {
   "cell_type": "code",
   "execution_count": 50,
   "metadata": {},
   "outputs": [
    {
     "data": {
      "text/plain": [
       "38"
      ]
     },
     "execution_count": 50,
     "metadata": {},
     "output_type": "execute_result"
    }
   ],
   "source": [
    "# 수정된 역의 개수 확인\n",
    "df[(df['호선명'] == '9호선') | (df['호선명'] == '9호선2~3단계') | (df['호선명'] == '9호선2단계')].지하철역.nunique()"
   ]
  },
  {
   "cell_type": "code",
   "execution_count": 51,
   "metadata": {},
   "outputs": [],
   "source": [
    "df.replace(['9호선2~3단계','9호선2단계'], '9호선', inplace=True)"
   ]
  },
  {
   "cell_type": "code",
   "execution_count": 52,
   "metadata": {},
   "outputs": [],
   "source": [
    "df.to_csv('../data/수정 후 데이터/month_time_passengers.csv', index=False)"
   ]
  }
 ],
 "metadata": {
  "kernelspec": {
   "display_name": "base",
   "language": "python",
   "name": "python3"
  },
  "language_info": {
   "codemirror_mode": {
    "name": "ipython",
    "version": 3
   },
   "file_extension": ".py",
   "mimetype": "text/x-python",
   "name": "python",
   "nbconvert_exporter": "python",
   "pygments_lexer": "ipython3",
   "version": "3.9.16"
  },
  "orig_nbformat": 4
 },
 "nbformat": 4,
 "nbformat_minor": 2
}
