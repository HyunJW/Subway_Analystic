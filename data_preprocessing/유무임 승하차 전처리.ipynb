{
 "cells": [
  {
   "cell_type": "code",
   "execution_count": 1,
   "metadata": {},
   "outputs": [],
   "source": [
    "import pandas as pd"
   ]
  },
  {
   "attachments": {},
   "cell_type": "markdown",
   "metadata": {},
   "source": [
    "## 1. 무임승차 대상별 현황 2016~2021 전처리"
   ]
  },
  {
   "cell_type": "code",
   "execution_count": 2,
   "metadata": {},
   "outputs": [],
   "source": [
    "# 데이터 로드\n",
    "df_group = pd.read_csv('../data/수정 전 데이터/무임승차_대상별_현황_2016-2021.csv', encoding='cp949')"
   ]
  },
  {
   "cell_type": "code",
   "execution_count": 3,
   "metadata": {},
   "outputs": [
    {
     "data": {
      "text/html": [
       "<div>\n",
       "<style scoped>\n",
       "    .dataframe tbody tr th:only-of-type {\n",
       "        vertical-align: middle;\n",
       "    }\n",
       "\n",
       "    .dataframe tbody tr th {\n",
       "        vertical-align: top;\n",
       "    }\n",
       "\n",
       "    .dataframe thead th {\n",
       "        text-align: right;\n",
       "    }\n",
       "</style>\n",
       "<table border=\"1\" class=\"dataframe\">\n",
       "  <thead>\n",
       "    <tr style=\"text-align: right;\">\n",
       "      <th></th>\n",
       "      <th>운영기관별(1)</th>\n",
       "      <th>2016</th>\n",
       "      <th>2016.1</th>\n",
       "      <th>2016.2</th>\n",
       "      <th>2016.3</th>\n",
       "      <th>2016.4</th>\n",
       "      <th>2016.5</th>\n",
       "      <th>2016.6</th>\n",
       "      <th>2016.7</th>\n",
       "      <th>2016.8</th>\n",
       "      <th>...</th>\n",
       "      <th>2021</th>\n",
       "      <th>2021.1</th>\n",
       "      <th>2021.2</th>\n",
       "      <th>2021.3</th>\n",
       "      <th>2021.4</th>\n",
       "      <th>2021.5</th>\n",
       "      <th>2021.6</th>\n",
       "      <th>2021.7</th>\n",
       "      <th>2021.8</th>\n",
       "      <th>2021.9</th>\n",
       "    </tr>\n",
       "  </thead>\n",
       "  <tbody>\n",
       "    <tr>\n",
       "      <th>0</th>\n",
       "      <td>운영기관별(1)</td>\n",
       "      <td>계</td>\n",
       "      <td>계</td>\n",
       "      <td>노인</td>\n",
       "      <td>노인</td>\n",
       "      <td>장애인</td>\n",
       "      <td>장애인</td>\n",
       "      <td>국가유공자</td>\n",
       "      <td>국가유공자</td>\n",
       "      <td>기타</td>\n",
       "      <td>...</td>\n",
       "      <td>계</td>\n",
       "      <td>계</td>\n",
       "      <td>노인</td>\n",
       "      <td>노인</td>\n",
       "      <td>장애인</td>\n",
       "      <td>장애인</td>\n",
       "      <td>국가유공자</td>\n",
       "      <td>국가유공자</td>\n",
       "      <td>기타</td>\n",
       "      <td>기타</td>\n",
       "    </tr>\n",
       "    <tr>\n",
       "      <th>1</th>\n",
       "      <td>운영기관별(1)</td>\n",
       "      <td>무임승차 (천명)</td>\n",
       "      <td>무임비용 (백만원)</td>\n",
       "      <td>무임승차 (천명)</td>\n",
       "      <td>무임비용 (백만원)</td>\n",
       "      <td>무임승차 (천명)</td>\n",
       "      <td>무임비용 (백만원)</td>\n",
       "      <td>무임승차 (천명)</td>\n",
       "      <td>무임비용 (백만원)</td>\n",
       "      <td>무임승차 (천명)</td>\n",
       "      <td>...</td>\n",
       "      <td>무임승차 (천명)</td>\n",
       "      <td>무임비용 (백만원)</td>\n",
       "      <td>무임승차 (천명)</td>\n",
       "      <td>무임비용 (백만원)</td>\n",
       "      <td>무임승차 (천명)</td>\n",
       "      <td>무임비용 (백만원)</td>\n",
       "      <td>무임승차 (천명)</td>\n",
       "      <td>무임비용 (백만원)</td>\n",
       "      <td>무임승차 (천명)</td>\n",
       "      <td>무임비용 (백만원)</td>\n",
       "    </tr>\n",
       "    <tr>\n",
       "      <th>2</th>\n",
       "      <td>합계</td>\n",
       "      <td>431540</td>\n",
       "      <td>564065</td>\n",
       "      <td>345012</td>\n",
       "      <td>450692</td>\n",
       "      <td>80733</td>\n",
       "      <td>105766</td>\n",
       "      <td>5500</td>\n",
       "      <td>7233</td>\n",
       "      <td>296</td>\n",
       "      <td>...</td>\n",
       "      <td>380197</td>\n",
       "      <td>510236</td>\n",
       "      <td>315412</td>\n",
       "      <td>423193</td>\n",
       "      <td>60463</td>\n",
       "      <td>81260</td>\n",
       "      <td>3855</td>\n",
       "      <td>5168</td>\n",
       "      <td>467</td>\n",
       "      <td>615</td>\n",
       "    </tr>\n",
       "    <tr>\n",
       "      <th>3</th>\n",
       "      <td>서울교통공사</td>\n",
       "      <td>-</td>\n",
       "      <td>-</td>\n",
       "      <td>-</td>\n",
       "      <td>-</td>\n",
       "      <td>-</td>\n",
       "      <td>-</td>\n",
       "      <td>-</td>\n",
       "      <td>-</td>\n",
       "      <td>-</td>\n",
       "      <td>...</td>\n",
       "      <td>205748</td>\n",
       "      <td>278438</td>\n",
       "      <td>170771</td>\n",
       "      <td>231108</td>\n",
       "      <td>32868</td>\n",
       "      <td>44477</td>\n",
       "      <td>2109</td>\n",
       "      <td>2853</td>\n",
       "      <td>-</td>\n",
       "      <td>-</td>\n",
       "    </tr>\n",
       "    <tr>\n",
       "      <th>4</th>\n",
       "      <td>서울메트로</td>\n",
       "      <td>151738</td>\n",
       "      <td>206478</td>\n",
       "      <td>121979</td>\n",
       "      <td>165984</td>\n",
       "      <td>27736</td>\n",
       "      <td>37741</td>\n",
       "      <td>2023</td>\n",
       "      <td>2753</td>\n",
       "      <td>-</td>\n",
       "      <td>...</td>\n",
       "      <td>-</td>\n",
       "      <td>-</td>\n",
       "      <td>-</td>\n",
       "      <td>-</td>\n",
       "      <td>-</td>\n",
       "      <td>-</td>\n",
       "      <td>-</td>\n",
       "      <td>-</td>\n",
       "      <td>-</td>\n",
       "      <td>-</td>\n",
       "    </tr>\n",
       "  </tbody>\n",
       "</table>\n",
       "<p>5 rows × 61 columns</p>\n",
       "</div>"
      ],
      "text/plain": [
       "   운영기관별(1)       2016      2016.1     2016.2      2016.3     2016.4  \\\n",
       "0  운영기관별(1)          계           계         노인          노인        장애인   \n",
       "1  운영기관별(1)  무임승차 (천명)  무임비용 (백만원)  무임승차 (천명)  무임비용 (백만원)  무임승차 (천명)   \n",
       "2        합계     431540      564065     345012      450692      80733   \n",
       "3    서울교통공사          -           -          -           -          -   \n",
       "4     서울메트로     151738      206478     121979      165984      27736   \n",
       "\n",
       "       2016.5     2016.6      2016.7     2016.8  ...       2021      2021.1  \\\n",
       "0         장애인      국가유공자       국가유공자         기타  ...          계           계   \n",
       "1  무임비용 (백만원)  무임승차 (천명)  무임비용 (백만원)  무임승차 (천명)  ...  무임승차 (천명)  무임비용 (백만원)   \n",
       "2      105766       5500        7233        296  ...     380197      510236   \n",
       "3           -          -           -          -  ...     205748      278438   \n",
       "4       37741       2023        2753          -  ...          -           -   \n",
       "\n",
       "      2021.2      2021.3     2021.4      2021.5     2021.6      2021.7  \\\n",
       "0         노인          노인        장애인         장애인      국가유공자       국가유공자   \n",
       "1  무임승차 (천명)  무임비용 (백만원)  무임승차 (천명)  무임비용 (백만원)  무임승차 (천명)  무임비용 (백만원)   \n",
       "2     315412      423193      60463       81260       3855        5168   \n",
       "3     170771      231108      32868       44477       2109        2853   \n",
       "4          -           -          -           -          -           -   \n",
       "\n",
       "      2021.8      2021.9  \n",
       "0         기타          기타  \n",
       "1  무임승차 (천명)  무임비용 (백만원)  \n",
       "2        467         615  \n",
       "3          -           -  \n",
       "4          -           -  \n",
       "\n",
       "[5 rows x 61 columns]"
      ]
     },
     "execution_count": 3,
     "metadata": {},
     "output_type": "execute_result"
    }
   ],
   "source": [
    "df_group.head()"
   ]
  },
  {
   "cell_type": "code",
   "execution_count": 4,
   "metadata": {},
   "outputs": [],
   "source": [
    "# 기존의 합계 column 삭제\n",
    "df_group.drop(index=2, inplace=True)"
   ]
  },
  {
   "cell_type": "code",
   "execution_count": 5,
   "metadata": {},
   "outputs": [],
   "source": [
    "# 결측치 처리('-' -> 0으로 변경)\n",
    "df_group.replace('-', 0, inplace=True)"
   ]
  },
  {
   "cell_type": "code",
   "execution_count": 6,
   "metadata": {},
   "outputs": [],
   "source": [
    "for i in df_group.columns:\n",
    "    # 불필요한 columns 삭제\n",
    "    if (df_group[i][0] == '계'):\n",
    "        df_group.drop(columns=i, inplace=True)\n",
    "    else:\n",
    "        # column 이름 변경\n",
    "        if i == '운영기관별(1)':\n",
    "            df_group.rename(columns={i: '년도'}, inplace=True)\n",
    "        df_group.rename(columns={i: i.split('.')[0]}, inplace=True)"
   ]
  },
  {
   "cell_type": "code",
   "execution_count": 7,
   "metadata": {},
   "outputs": [],
   "source": [
    "df_group.iloc[0, 0] = '대상'\n",
    "df_group.iloc[1, 0] = '인원/비용'"
   ]
  },
  {
   "cell_type": "code",
   "execution_count": 8,
   "metadata": {},
   "outputs": [
    {
     "data": {
      "text/html": [
       "<div>\n",
       "<style scoped>\n",
       "    .dataframe tbody tr th:only-of-type {\n",
       "        vertical-align: middle;\n",
       "    }\n",
       "\n",
       "    .dataframe tbody tr th {\n",
       "        vertical-align: top;\n",
       "    }\n",
       "\n",
       "    .dataframe thead th {\n",
       "        text-align: right;\n",
       "    }\n",
       "</style>\n",
       "<table border=\"1\" class=\"dataframe\">\n",
       "  <thead>\n",
       "    <tr style=\"text-align: right;\">\n",
       "      <th></th>\n",
       "      <th>년도</th>\n",
       "      <th>2016</th>\n",
       "      <th>2016</th>\n",
       "      <th>2016</th>\n",
       "      <th>2016</th>\n",
       "      <th>2016</th>\n",
       "      <th>2016</th>\n",
       "      <th>2016</th>\n",
       "      <th>2016</th>\n",
       "      <th>2017</th>\n",
       "      <th>...</th>\n",
       "      <th>2020</th>\n",
       "      <th>2020</th>\n",
       "      <th>2021</th>\n",
       "      <th>2021</th>\n",
       "      <th>2021</th>\n",
       "      <th>2021</th>\n",
       "      <th>2021</th>\n",
       "      <th>2021</th>\n",
       "      <th>2021</th>\n",
       "      <th>2021</th>\n",
       "    </tr>\n",
       "  </thead>\n",
       "  <tbody>\n",
       "    <tr>\n",
       "      <th>0</th>\n",
       "      <td>대상</td>\n",
       "      <td>노인</td>\n",
       "      <td>노인</td>\n",
       "      <td>장애인</td>\n",
       "      <td>장애인</td>\n",
       "      <td>국가유공자</td>\n",
       "      <td>국가유공자</td>\n",
       "      <td>기타</td>\n",
       "      <td>기타</td>\n",
       "      <td>노인</td>\n",
       "      <td>...</td>\n",
       "      <td>기타</td>\n",
       "      <td>기타</td>\n",
       "      <td>노인</td>\n",
       "      <td>노인</td>\n",
       "      <td>장애인</td>\n",
       "      <td>장애인</td>\n",
       "      <td>국가유공자</td>\n",
       "      <td>국가유공자</td>\n",
       "      <td>기타</td>\n",
       "      <td>기타</td>\n",
       "    </tr>\n",
       "    <tr>\n",
       "      <th>1</th>\n",
       "      <td>인원/비용</td>\n",
       "      <td>무임승차 (천명)</td>\n",
       "      <td>무임비용 (백만원)</td>\n",
       "      <td>무임승차 (천명)</td>\n",
       "      <td>무임비용 (백만원)</td>\n",
       "      <td>무임승차 (천명)</td>\n",
       "      <td>무임비용 (백만원)</td>\n",
       "      <td>무임승차 (천명)</td>\n",
       "      <td>무임비용 (백만원)</td>\n",
       "      <td>무임승차 (천명)</td>\n",
       "      <td>...</td>\n",
       "      <td>무임승차 (천명)</td>\n",
       "      <td>무임비용 (백만원)</td>\n",
       "      <td>무임승차 (천명)</td>\n",
       "      <td>무임비용 (백만원)</td>\n",
       "      <td>무임승차 (천명)</td>\n",
       "      <td>무임비용 (백만원)</td>\n",
       "      <td>무임승차 (천명)</td>\n",
       "      <td>무임비용 (백만원)</td>\n",
       "      <td>무임승차 (천명)</td>\n",
       "      <td>무임비용 (백만원)</td>\n",
       "    </tr>\n",
       "    <tr>\n",
       "      <th>3</th>\n",
       "      <td>서울교통공사</td>\n",
       "      <td>0</td>\n",
       "      <td>0</td>\n",
       "      <td>0</td>\n",
       "      <td>0</td>\n",
       "      <td>0</td>\n",
       "      <td>0</td>\n",
       "      <td>0</td>\n",
       "      <td>0</td>\n",
       "      <td>208466</td>\n",
       "      <td>...</td>\n",
       "      <td>0</td>\n",
       "      <td>0</td>\n",
       "      <td>170771</td>\n",
       "      <td>231108</td>\n",
       "      <td>32868</td>\n",
       "      <td>44477</td>\n",
       "      <td>2109</td>\n",
       "      <td>2853</td>\n",
       "      <td>0</td>\n",
       "      <td>0</td>\n",
       "    </tr>\n",
       "    <tr>\n",
       "      <th>4</th>\n",
       "      <td>서울메트로</td>\n",
       "      <td>121979</td>\n",
       "      <td>165984</td>\n",
       "      <td>27736</td>\n",
       "      <td>37741</td>\n",
       "      <td>2023</td>\n",
       "      <td>2753</td>\n",
       "      <td>0</td>\n",
       "      <td>0</td>\n",
       "      <td>0</td>\n",
       "      <td>...</td>\n",
       "      <td>0</td>\n",
       "      <td>0</td>\n",
       "      <td>0</td>\n",
       "      <td>0</td>\n",
       "      <td>0</td>\n",
       "      <td>0</td>\n",
       "      <td>0</td>\n",
       "      <td>0</td>\n",
       "      <td>0</td>\n",
       "      <td>0</td>\n",
       "    </tr>\n",
       "    <tr>\n",
       "      <th>5</th>\n",
       "      <td>서울특별시 도시철도공사</td>\n",
       "      <td>81162</td>\n",
       "      <td>109756</td>\n",
       "      <td>20278</td>\n",
       "      <td>27436</td>\n",
       "      <td>1473</td>\n",
       "      <td>1992</td>\n",
       "      <td>0</td>\n",
       "      <td>0</td>\n",
       "      <td>0</td>\n",
       "      <td>...</td>\n",
       "      <td>0</td>\n",
       "      <td>0</td>\n",
       "      <td>0</td>\n",
       "      <td>0</td>\n",
       "      <td>0</td>\n",
       "      <td>0</td>\n",
       "      <td>0</td>\n",
       "      <td>0</td>\n",
       "      <td>0</td>\n",
       "      <td>0</td>\n",
       "    </tr>\n",
       "  </tbody>\n",
       "</table>\n",
       "<p>5 rows × 49 columns</p>\n",
       "</div>"
      ],
      "text/plain": [
       "             년도       2016        2016       2016        2016       2016  \\\n",
       "0            대상         노인          노인        장애인         장애인      국가유공자   \n",
       "1         인원/비용  무임승차 (천명)  무임비용 (백만원)  무임승차 (천명)  무임비용 (백만원)  무임승차 (천명)   \n",
       "3        서울교통공사          0           0          0           0          0   \n",
       "4         서울메트로     121979      165984      27736       37741       2023   \n",
       "5  서울특별시 도시철도공사      81162      109756      20278       27436       1473   \n",
       "\n",
       "         2016       2016        2016       2017  ...       2020        2020  \\\n",
       "0       국가유공자         기타          기타         노인  ...         기타          기타   \n",
       "1  무임비용 (백만원)  무임승차 (천명)  무임비용 (백만원)  무임승차 (천명)  ...  무임승차 (천명)  무임비용 (백만원)   \n",
       "3           0          0           0     208466  ...          0           0   \n",
       "4        2753          0           0          0  ...          0           0   \n",
       "5        1992          0           0          0  ...          0           0   \n",
       "\n",
       "        2021        2021       2021        2021       2021        2021  \\\n",
       "0         노인          노인        장애인         장애인      국가유공자       국가유공자   \n",
       "1  무임승차 (천명)  무임비용 (백만원)  무임승차 (천명)  무임비용 (백만원)  무임승차 (천명)  무임비용 (백만원)   \n",
       "3     170771      231108      32868       44477       2109        2853   \n",
       "4          0           0          0           0          0           0   \n",
       "5          0           0          0           0          0           0   \n",
       "\n",
       "        2021        2021  \n",
       "0         기타          기타  \n",
       "1  무임승차 (천명)  무임비용 (백만원)  \n",
       "3          0           0  \n",
       "4          0           0  \n",
       "5          0           0  \n",
       "\n",
       "[5 rows x 49 columns]"
      ]
     },
     "execution_count": 8,
     "metadata": {},
     "output_type": "execute_result"
    }
   ],
   "source": [
    "df_group.head()"
   ]
  },
  {
   "cell_type": "code",
   "execution_count": 9,
   "metadata": {},
   "outputs": [],
   "source": [
    "# 년도별 데이터로 분리\n",
    "df_group_2016 = df_group[['년도', '2016']].T\n",
    "df_group_2016.reset_index(inplace=True)\n",
    "df_group_2016.columns = df_group_2016.iloc[0]\n",
    "df_group_2016.drop(index=0, inplace=True)\n",
    "\n",
    "df_group_2017 = df_group[['년도', '2017']].T\n",
    "df_group_2017.reset_index(inplace=True)\n",
    "df_group_2017.columns = df_group_2017.iloc[0]\n",
    "df_group_2017.drop(index=0, inplace=True)\n",
    "\n",
    "df_group_2018 = df_group[['년도', '2018']].T\n",
    "df_group_2018.reset_index(inplace=True)\n",
    "df_group_2018.columns = df_group_2018.iloc[0]\n",
    "df_group_2018.drop(index=0, inplace=True)\n",
    "\n",
    "df_group_2019 = df_group[['년도', '2019']].T\n",
    "df_group_2019.reset_index(inplace=True)\n",
    "df_group_2019.columns = df_group_2019.iloc[0]\n",
    "df_group_2019.drop(index=0, inplace=True)\n",
    "\n",
    "df_group_2020 = df_group[['년도', '2020']].T\n",
    "df_group_2020.reset_index(inplace=True)\n",
    "df_group_2020.columns = df_group_2020.iloc[0]\n",
    "df_group_2020.drop(index=0, inplace=True)\n",
    "\n",
    "df_group_2021 = df_group[['년도', '2021']].T\n",
    "df_group_2021.reset_index(inplace=True)\n",
    "df_group_2021.columns = df_group_2021.iloc[0]\n",
    "df_group_2021.drop(index=0, inplace=True)"
   ]
  },
  {
   "cell_type": "code",
   "execution_count": 10,
   "metadata": {},
   "outputs": [
    {
     "data": {
      "text/html": [
       "<div>\n",
       "<style scoped>\n",
       "    .dataframe tbody tr th:only-of-type {\n",
       "        vertical-align: middle;\n",
       "    }\n",
       "\n",
       "    .dataframe tbody tr th {\n",
       "        vertical-align: top;\n",
       "    }\n",
       "\n",
       "    .dataframe thead th {\n",
       "        text-align: right;\n",
       "    }\n",
       "</style>\n",
       "<table border=\"1\" class=\"dataframe\">\n",
       "  <thead>\n",
       "    <tr style=\"text-align: right;\">\n",
       "      <th></th>\n",
       "      <th>년도</th>\n",
       "      <th>대상</th>\n",
       "      <th>인원/비용</th>\n",
       "      <th>서울교통공사</th>\n",
       "      <th>서울메트로</th>\n",
       "      <th>서울특별시 도시철도공사</th>\n",
       "      <th>서울메트로 9호선(주)</th>\n",
       "      <th>서울교통공사9호선운영부문</th>\n",
       "      <th>부산교통공사</th>\n",
       "      <th>대구도시철도공사</th>\n",
       "      <th>인천교통공사</th>\n",
       "      <th>광주광역시 도시철도공사</th>\n",
       "      <th>대전교통공사</th>\n",
       "      <th>부산-김해 경전철(주)</th>\n",
       "      <th>의정부 경량전철(주)</th>\n",
       "      <th>용인 경량전철(주)</th>\n",
       "      <th>우이 신설경전철(주)</th>\n",
       "      <th>김포골드라인(주)</th>\n",
       "    </tr>\n",
       "  </thead>\n",
       "  <tbody>\n",
       "    <tr>\n",
       "      <th>0</th>\n",
       "      <td>2016</td>\n",
       "      <td>노인</td>\n",
       "      <td>무임승차 (천명)</td>\n",
       "      <td>0</td>\n",
       "      <td>121979</td>\n",
       "      <td>81162</td>\n",
       "      <td>9337</td>\n",
       "      <td>987</td>\n",
       "      <td>72059</td>\n",
       "      <td>33297</td>\n",
       "      <td>9498</td>\n",
       "      <td>4830</td>\n",
       "      <td>6823</td>\n",
       "      <td>0</td>\n",
       "      <td>3244</td>\n",
       "      <td>1796</td>\n",
       "      <td>0</td>\n",
       "      <td>0</td>\n",
       "    </tr>\n",
       "    <tr>\n",
       "      <th>1</th>\n",
       "      <td>2016</td>\n",
       "      <td>노인</td>\n",
       "      <td>무임비용 (백만원)</td>\n",
       "      <td>0</td>\n",
       "      <td>165984</td>\n",
       "      <td>109756</td>\n",
       "      <td>11671</td>\n",
       "      <td>1234</td>\n",
       "      <td>91450</td>\n",
       "      <td>36654</td>\n",
       "      <td>11873</td>\n",
       "      <td>6206</td>\n",
       "      <td>8880</td>\n",
       "      <td>0</td>\n",
       "      <td>4380</td>\n",
       "      <td>2604</td>\n",
       "      <td>0</td>\n",
       "      <td>0</td>\n",
       "    </tr>\n",
       "    <tr>\n",
       "      <th>2</th>\n",
       "      <td>2016</td>\n",
       "      <td>장애인</td>\n",
       "      <td>무임승차 (천명)</td>\n",
       "      <td>0</td>\n",
       "      <td>27736</td>\n",
       "      <td>20278</td>\n",
       "      <td>2534</td>\n",
       "      <td>226</td>\n",
       "      <td>14535</td>\n",
       "      <td>7034</td>\n",
       "      <td>3137</td>\n",
       "      <td>1031</td>\n",
       "      <td>1736</td>\n",
       "      <td>974</td>\n",
       "      <td>988</td>\n",
       "      <td>524</td>\n",
       "      <td>0</td>\n",
       "      <td>0</td>\n",
       "    </tr>\n",
       "    <tr>\n",
       "      <th>3</th>\n",
       "      <td>2016</td>\n",
       "      <td>장애인</td>\n",
       "      <td>무임비용 (백만원)</td>\n",
       "      <td>0</td>\n",
       "      <td>37741</td>\n",
       "      <td>27436</td>\n",
       "      <td>3167</td>\n",
       "      <td>283</td>\n",
       "      <td>18446</td>\n",
       "      <td>7743</td>\n",
       "      <td>3921</td>\n",
       "      <td>1323</td>\n",
       "      <td>2307</td>\n",
       "      <td>1306</td>\n",
       "      <td>1333</td>\n",
       "      <td>760</td>\n",
       "      <td>0</td>\n",
       "      <td>0</td>\n",
       "    </tr>\n",
       "    <tr>\n",
       "      <th>4</th>\n",
       "      <td>2016</td>\n",
       "      <td>국가유공자</td>\n",
       "      <td>무임승차 (천명)</td>\n",
       "      <td>0</td>\n",
       "      <td>2023</td>\n",
       "      <td>1473</td>\n",
       "      <td>166</td>\n",
       "      <td>18</td>\n",
       "      <td>963</td>\n",
       "      <td>394</td>\n",
       "      <td>141</td>\n",
       "      <td>72</td>\n",
       "      <td>114</td>\n",
       "      <td>77</td>\n",
       "      <td>41</td>\n",
       "      <td>18</td>\n",
       "      <td>0</td>\n",
       "      <td>0</td>\n",
       "    </tr>\n",
       "  </tbody>\n",
       "</table>\n",
       "</div>"
      ],
      "text/plain": [
       "0    년도     대상       인원/비용 서울교통공사   서울메트로 서울특별시 도시철도공사 서울메트로 9호선(주)  \\\n",
       "0  2016     노인   무임승차 (천명)      0  121979        81162         9337   \n",
       "1  2016     노인  무임비용 (백만원)      0  165984       109756        11671   \n",
       "2  2016    장애인   무임승차 (천명)      0   27736        20278         2534   \n",
       "3  2016    장애인  무임비용 (백만원)      0   37741        27436         3167   \n",
       "4  2016  국가유공자   무임승차 (천명)      0    2023         1473          166   \n",
       "\n",
       "0 서울교통공사9호선운영부문 부산교통공사 대구도시철도공사 인천교통공사 광주광역시 도시철도공사 대전교통공사 부산-김해 경전철(주)  \\\n",
       "0           987  72059    33297   9498         4830   6823            0   \n",
       "1          1234  91450    36654  11873         6206   8880            0   \n",
       "2           226  14535     7034   3137         1031   1736          974   \n",
       "3           283  18446     7743   3921         1323   2307         1306   \n",
       "4            18    963      394    141           72    114           77   \n",
       "\n",
       "0 의정부 경량전철(주) 용인 경량전철(주) 우이 신설경전철(주) 김포골드라인(주)  \n",
       "0        3244       1796           0         0  \n",
       "1        4380       2604           0         0  \n",
       "2         988        524           0         0  \n",
       "3        1333        760           0         0  \n",
       "4          41         18           0         0  "
      ]
     },
     "execution_count": 10,
     "metadata": {},
     "output_type": "execute_result"
    }
   ],
   "source": [
    "# 분리한 데이터 병합\n",
    "df_group = pd.concat([df_group_2016, df_group_2017, df_group_2018, df_group_2019, df_group_2020, df_group_2021], ignore_index=True)\n",
    "df_group.head()"
   ]
  },
  {
   "cell_type": "code",
   "execution_count": 11,
   "metadata": {},
   "outputs": [
    {
     "name": "stdout",
     "output_type": "stream",
     "text": [
      "<class 'pandas.core.frame.DataFrame'>\n",
      "RangeIndex: 48 entries, 0 to 47\n",
      "Data columns (total 18 columns):\n",
      " #   Column         Non-Null Count  Dtype \n",
      "---  ------         --------------  ----- \n",
      " 0   년도             48 non-null     object\n",
      " 1   대상             48 non-null     object\n",
      " 2   인원/비용          48 non-null     object\n",
      " 3   서울교통공사         48 non-null     object\n",
      " 4   서울메트로          48 non-null     object\n",
      " 5   서울특별시 도시철도공사   48 non-null     object\n",
      " 6   서울메트로 9호선(주)   48 non-null     object\n",
      " 7   서울교통공사9호선운영부문  48 non-null     object\n",
      " 8   부산교통공사         48 non-null     object\n",
      " 9   대구도시철도공사       48 non-null     object\n",
      " 10  인천교통공사         48 non-null     object\n",
      " 11  광주광역시 도시철도공사   48 non-null     object\n",
      " 12  대전교통공사         48 non-null     object\n",
      " 13  부산-김해 경전철(주)   48 non-null     object\n",
      " 14  의정부 경량전철(주)    48 non-null     object\n",
      " 15  용인 경량전철(주)     48 non-null     object\n",
      " 16  우이 신설경전철(주)    48 non-null     object\n",
      " 17  김포골드라인(주)      48 non-null     object\n",
      "dtypes: object(18)\n",
      "memory usage: 6.9+ KB\n"
     ]
    }
   ],
   "source": [
    "# 타입 확인\n",
    "df_group.info()"
   ]
  },
  {
   "cell_type": "code",
   "execution_count": 12,
   "metadata": {},
   "outputs": [
    {
     "name": "stdout",
     "output_type": "stream",
     "text": [
      "<class 'pandas.core.frame.DataFrame'>\n",
      "RangeIndex: 48 entries, 0 to 47\n",
      "Data columns (total 18 columns):\n",
      " #   Column         Non-Null Count  Dtype \n",
      "---  ------         --------------  ----- \n",
      " 0   년도             48 non-null     object\n",
      " 1   대상             48 non-null     object\n",
      " 2   인원/비용          48 non-null     object\n",
      " 3   서울교통공사         48 non-null     int32 \n",
      " 4   서울메트로          48 non-null     int32 \n",
      " 5   서울특별시 도시철도공사   48 non-null     int32 \n",
      " 6   서울메트로 9호선(주)   48 non-null     int32 \n",
      " 7   서울교통공사9호선운영부문  48 non-null     int32 \n",
      " 8   부산교통공사         48 non-null     int32 \n",
      " 9   대구도시철도공사       48 non-null     int32 \n",
      " 10  인천교통공사         48 non-null     int32 \n",
      " 11  광주광역시 도시철도공사   48 non-null     int32 \n",
      " 12  대전교통공사         48 non-null     int32 \n",
      " 13  부산-김해 경전철(주)   48 non-null     int32 \n",
      " 14  의정부 경량전철(주)    48 non-null     int32 \n",
      " 15  용인 경량전철(주)     48 non-null     int32 \n",
      " 16  우이 신설경전철(주)    48 non-null     int32 \n",
      " 17  김포골드라인(주)      48 non-null     int32 \n",
      "dtypes: int32(15), object(3)\n",
      "memory usage: 4.1+ KB\n"
     ]
    }
   ],
   "source": [
    "# 자료값을 정수형으로 변환\n",
    "for i in df_group.columns[3:]:\n",
    "    df_group[i] = df_group[i].astype('int')\n",
    "df_group.info()"
   ]
  },
  {
   "cell_type": "code",
   "execution_count": 13,
   "metadata": {},
   "outputs": [
    {
     "data": {
      "text/html": [
       "<div>\n",
       "<style scoped>\n",
       "    .dataframe tbody tr th:only-of-type {\n",
       "        vertical-align: middle;\n",
       "    }\n",
       "\n",
       "    .dataframe tbody tr th {\n",
       "        vertical-align: top;\n",
       "    }\n",
       "\n",
       "    .dataframe thead th {\n",
       "        text-align: right;\n",
       "    }\n",
       "</style>\n",
       "<table border=\"1\" class=\"dataframe\">\n",
       "  <thead>\n",
       "    <tr style=\"text-align: right;\">\n",
       "      <th></th>\n",
       "      <th>년도</th>\n",
       "      <th>대상</th>\n",
       "      <th>인원/비용</th>\n",
       "      <th>서울교통공사</th>\n",
       "      <th>서울메트로</th>\n",
       "      <th>서울특별시 도시철도공사</th>\n",
       "      <th>서울메트로 9호선(주)</th>\n",
       "      <th>서울교통공사9호선운영부문</th>\n",
       "      <th>부산교통공사</th>\n",
       "      <th>대구도시철도공사</th>\n",
       "      <th>인천교통공사</th>\n",
       "      <th>광주광역시 도시철도공사</th>\n",
       "      <th>대전교통공사</th>\n",
       "      <th>부산-김해 경전철(주)</th>\n",
       "      <th>의정부 경량전철(주)</th>\n",
       "      <th>용인 경량전철(주)</th>\n",
       "      <th>우이 신설경전철(주)</th>\n",
       "      <th>김포골드라인(주)</th>\n",
       "      <th>합계</th>\n",
       "    </tr>\n",
       "  </thead>\n",
       "  <tbody>\n",
       "    <tr>\n",
       "      <th>0</th>\n",
       "      <td>2016</td>\n",
       "      <td>노인</td>\n",
       "      <td>무임승차 (천명)</td>\n",
       "      <td>0</td>\n",
       "      <td>121979</td>\n",
       "      <td>81162</td>\n",
       "      <td>9337</td>\n",
       "      <td>987</td>\n",
       "      <td>72059</td>\n",
       "      <td>33297</td>\n",
       "      <td>9498</td>\n",
       "      <td>4830</td>\n",
       "      <td>6823</td>\n",
       "      <td>0</td>\n",
       "      <td>3244</td>\n",
       "      <td>1796</td>\n",
       "      <td>0</td>\n",
       "      <td>0</td>\n",
       "      <td>345012</td>\n",
       "    </tr>\n",
       "    <tr>\n",
       "      <th>1</th>\n",
       "      <td>2016</td>\n",
       "      <td>노인</td>\n",
       "      <td>무임비용 (백만원)</td>\n",
       "      <td>0</td>\n",
       "      <td>165984</td>\n",
       "      <td>109756</td>\n",
       "      <td>11671</td>\n",
       "      <td>1234</td>\n",
       "      <td>91450</td>\n",
       "      <td>36654</td>\n",
       "      <td>11873</td>\n",
       "      <td>6206</td>\n",
       "      <td>8880</td>\n",
       "      <td>0</td>\n",
       "      <td>4380</td>\n",
       "      <td>2604</td>\n",
       "      <td>0</td>\n",
       "      <td>0</td>\n",
       "      <td>450692</td>\n",
       "    </tr>\n",
       "  </tbody>\n",
       "</table>\n",
       "</div>"
      ],
      "text/plain": [
       "0    년도  대상       인원/비용  서울교통공사   서울메트로  서울특별시 도시철도공사  서울메트로 9호선(주)  \\\n",
       "0  2016  노인   무임승차 (천명)       0  121979         81162          9337   \n",
       "1  2016  노인  무임비용 (백만원)       0  165984        109756         11671   \n",
       "\n",
       "0  서울교통공사9호선운영부문  부산교통공사  대구도시철도공사  인천교통공사  광주광역시 도시철도공사  대전교통공사  \\\n",
       "0            987   72059     33297    9498          4830    6823   \n",
       "1           1234   91450     36654   11873          6206    8880   \n",
       "\n",
       "0  부산-김해 경전철(주)  의정부 경량전철(주)  용인 경량전철(주)  우이 신설경전철(주)  김포골드라인(주)      합계  \n",
       "0             0         3244        1796            0          0  345012  \n",
       "1             0         4380        2604            0          0  450692  "
      ]
     },
     "execution_count": 13,
     "metadata": {},
     "output_type": "execute_result"
    }
   ],
   "source": [
    "# 합계 column 생성\n",
    "df_group['합계'] = df_group[df_group.columns[3: ]].sum(axis=1)\n",
    "df_group.head(2)"
   ]
  },
  {
   "cell_type": "code",
   "execution_count": 14,
   "metadata": {},
   "outputs": [
    {
     "data": {
      "text/html": [
       "<div>\n",
       "<style scoped>\n",
       "    .dataframe tbody tr th:only-of-type {\n",
       "        vertical-align: middle;\n",
       "    }\n",
       "\n",
       "    .dataframe tbody tr th {\n",
       "        vertical-align: top;\n",
       "    }\n",
       "\n",
       "    .dataframe thead th {\n",
       "        text-align: right;\n",
       "    }\n",
       "</style>\n",
       "<table border=\"1\" class=\"dataframe\">\n",
       "  <thead>\n",
       "    <tr style=\"text-align: right;\">\n",
       "      <th></th>\n",
       "      <th>년도</th>\n",
       "      <th>대상</th>\n",
       "      <th>서울교통공사</th>\n",
       "      <th>서울메트로</th>\n",
       "      <th>서울특별시 도시철도공사</th>\n",
       "      <th>서울메트로 9호선(주)</th>\n",
       "      <th>서울교통공사9호선운영부문</th>\n",
       "      <th>부산교통공사</th>\n",
       "      <th>대구도시철도공사</th>\n",
       "      <th>인천교통공사</th>\n",
       "      <th>광주광역시 도시철도공사</th>\n",
       "      <th>대전교통공사</th>\n",
       "      <th>부산-김해 경전철(주)</th>\n",
       "      <th>의정부 경량전철(주)</th>\n",
       "      <th>용인 경량전철(주)</th>\n",
       "      <th>우이 신설경전철(주)</th>\n",
       "      <th>김포골드라인(주)</th>\n",
       "      <th>합계</th>\n",
       "    </tr>\n",
       "  </thead>\n",
       "  <tbody>\n",
       "    <tr>\n",
       "      <th>0</th>\n",
       "      <td>2016</td>\n",
       "      <td>노인</td>\n",
       "      <td>0</td>\n",
       "      <td>121979</td>\n",
       "      <td>81162</td>\n",
       "      <td>9337</td>\n",
       "      <td>987</td>\n",
       "      <td>72059</td>\n",
       "      <td>33297</td>\n",
       "      <td>9498</td>\n",
       "      <td>4830</td>\n",
       "      <td>6823</td>\n",
       "      <td>0</td>\n",
       "      <td>3244</td>\n",
       "      <td>1796</td>\n",
       "      <td>0</td>\n",
       "      <td>0</td>\n",
       "      <td>345012</td>\n",
       "    </tr>\n",
       "    <tr>\n",
       "      <th>1</th>\n",
       "      <td>2016</td>\n",
       "      <td>장애인</td>\n",
       "      <td>0</td>\n",
       "      <td>27736</td>\n",
       "      <td>20278</td>\n",
       "      <td>2534</td>\n",
       "      <td>226</td>\n",
       "      <td>14535</td>\n",
       "      <td>7034</td>\n",
       "      <td>3137</td>\n",
       "      <td>1031</td>\n",
       "      <td>1736</td>\n",
       "      <td>974</td>\n",
       "      <td>988</td>\n",
       "      <td>524</td>\n",
       "      <td>0</td>\n",
       "      <td>0</td>\n",
       "      <td>80733</td>\n",
       "    </tr>\n",
       "    <tr>\n",
       "      <th>2</th>\n",
       "      <td>2016</td>\n",
       "      <td>국가유공자</td>\n",
       "      <td>0</td>\n",
       "      <td>2023</td>\n",
       "      <td>1473</td>\n",
       "      <td>166</td>\n",
       "      <td>18</td>\n",
       "      <td>963</td>\n",
       "      <td>394</td>\n",
       "      <td>141</td>\n",
       "      <td>72</td>\n",
       "      <td>114</td>\n",
       "      <td>77</td>\n",
       "      <td>41</td>\n",
       "      <td>18</td>\n",
       "      <td>0</td>\n",
       "      <td>0</td>\n",
       "      <td>5500</td>\n",
       "    </tr>\n",
       "  </tbody>\n",
       "</table>\n",
       "</div>"
      ],
      "text/plain": [
       "0    년도     대상  서울교통공사   서울메트로  서울특별시 도시철도공사  서울메트로 9호선(주)  서울교통공사9호선운영부문  \\\n",
       "0  2016     노인       0  121979         81162          9337            987   \n",
       "1  2016    장애인       0   27736         20278          2534            226   \n",
       "2  2016  국가유공자       0    2023          1473           166             18   \n",
       "\n",
       "0  부산교통공사  대구도시철도공사  인천교통공사  광주광역시 도시철도공사  대전교통공사  부산-김해 경전철(주)  의정부 경량전철(주)  \\\n",
       "0   72059     33297    9498          4830    6823             0         3244   \n",
       "1   14535      7034    3137          1031    1736           974          988   \n",
       "2     963       394     141            72     114            77           41   \n",
       "\n",
       "0  용인 경량전철(주)  우이 신설경전철(주)  김포골드라인(주)      합계  \n",
       "0        1796            0          0  345012  \n",
       "1         524            0          0   80733  \n",
       "2          18            0          0    5500  "
      ]
     },
     "execution_count": 14,
     "metadata": {},
     "output_type": "execute_result"
    }
   ],
   "source": [
    "# 2016~2021 무임승차 인구수(단위: 천명)\n",
    "df_group_pop = df_group[df_group.index % 2 == 0].drop(columns='인원/비용').reset_index(drop=True)\n",
    "df_group_pop.head(3)"
   ]
  },
  {
   "cell_type": "code",
   "execution_count": 15,
   "metadata": {},
   "outputs": [
    {
     "data": {
      "text/html": [
       "<div>\n",
       "<style scoped>\n",
       "    .dataframe tbody tr th:only-of-type {\n",
       "        vertical-align: middle;\n",
       "    }\n",
       "\n",
       "    .dataframe tbody tr th {\n",
       "        vertical-align: top;\n",
       "    }\n",
       "\n",
       "    .dataframe thead th {\n",
       "        text-align: right;\n",
       "    }\n",
       "</style>\n",
       "<table border=\"1\" class=\"dataframe\">\n",
       "  <thead>\n",
       "    <tr style=\"text-align: right;\">\n",
       "      <th></th>\n",
       "      <th>년도</th>\n",
       "      <th>대상</th>\n",
       "      <th>서울교통공사</th>\n",
       "      <th>서울메트로</th>\n",
       "      <th>서울특별시 도시철도공사</th>\n",
       "      <th>서울메트로 9호선(주)</th>\n",
       "      <th>서울교통공사9호선운영부문</th>\n",
       "      <th>부산교통공사</th>\n",
       "      <th>대구도시철도공사</th>\n",
       "      <th>인천교통공사</th>\n",
       "      <th>광주광역시 도시철도공사</th>\n",
       "      <th>대전교통공사</th>\n",
       "      <th>부산-김해 경전철(주)</th>\n",
       "      <th>의정부 경량전철(주)</th>\n",
       "      <th>용인 경량전철(주)</th>\n",
       "      <th>우이 신설경전철(주)</th>\n",
       "      <th>김포골드라인(주)</th>\n",
       "      <th>합계</th>\n",
       "    </tr>\n",
       "  </thead>\n",
       "  <tbody>\n",
       "    <tr>\n",
       "      <th>0</th>\n",
       "      <td>2016</td>\n",
       "      <td>노인</td>\n",
       "      <td>0</td>\n",
       "      <td>165984</td>\n",
       "      <td>109756</td>\n",
       "      <td>11671</td>\n",
       "      <td>1234</td>\n",
       "      <td>91450</td>\n",
       "      <td>36654</td>\n",
       "      <td>11873</td>\n",
       "      <td>6206</td>\n",
       "      <td>8880</td>\n",
       "      <td>0</td>\n",
       "      <td>4380</td>\n",
       "      <td>2604</td>\n",
       "      <td>0</td>\n",
       "      <td>0</td>\n",
       "      <td>450692</td>\n",
       "    </tr>\n",
       "    <tr>\n",
       "      <th>1</th>\n",
       "      <td>2016</td>\n",
       "      <td>장애인</td>\n",
       "      <td>0</td>\n",
       "      <td>37741</td>\n",
       "      <td>27436</td>\n",
       "      <td>3167</td>\n",
       "      <td>283</td>\n",
       "      <td>18446</td>\n",
       "      <td>7743</td>\n",
       "      <td>3921</td>\n",
       "      <td>1323</td>\n",
       "      <td>2307</td>\n",
       "      <td>1306</td>\n",
       "      <td>1333</td>\n",
       "      <td>760</td>\n",
       "      <td>0</td>\n",
       "      <td>0</td>\n",
       "      <td>105766</td>\n",
       "    </tr>\n",
       "    <tr>\n",
       "      <th>2</th>\n",
       "      <td>2016</td>\n",
       "      <td>국가유공자</td>\n",
       "      <td>0</td>\n",
       "      <td>2753</td>\n",
       "      <td>1992</td>\n",
       "      <td>207</td>\n",
       "      <td>23</td>\n",
       "      <td>1222</td>\n",
       "      <td>434</td>\n",
       "      <td>176</td>\n",
       "      <td>93</td>\n",
       "      <td>148</td>\n",
       "      <td>104</td>\n",
       "      <td>55</td>\n",
       "      <td>26</td>\n",
       "      <td>0</td>\n",
       "      <td>0</td>\n",
       "      <td>7233</td>\n",
       "    </tr>\n",
       "  </tbody>\n",
       "</table>\n",
       "</div>"
      ],
      "text/plain": [
       "0    년도     대상  서울교통공사   서울메트로  서울특별시 도시철도공사  서울메트로 9호선(주)  서울교통공사9호선운영부문  \\\n",
       "0  2016     노인       0  165984        109756         11671           1234   \n",
       "1  2016    장애인       0   37741         27436          3167            283   \n",
       "2  2016  국가유공자       0    2753          1992           207             23   \n",
       "\n",
       "0  부산교통공사  대구도시철도공사  인천교통공사  광주광역시 도시철도공사  대전교통공사  부산-김해 경전철(주)  의정부 경량전철(주)  \\\n",
       "0   91450     36654   11873          6206    8880             0         4380   \n",
       "1   18446      7743    3921          1323    2307          1306         1333   \n",
       "2    1222       434     176            93     148           104           55   \n",
       "\n",
       "0  용인 경량전철(주)  우이 신설경전철(주)  김포골드라인(주)      합계  \n",
       "0        2604            0          0  450692  \n",
       "1         760            0          0  105766  \n",
       "2          26            0          0    7233  "
      ]
     },
     "execution_count": 15,
     "metadata": {},
     "output_type": "execute_result"
    }
   ],
   "source": [
    "# 2016~2021 무임비용(단위: 백만원)\n",
    "df_group_fare = df_group[df_group.index % 2 == 1].drop(columns='인원/비용').reset_index(drop=True)\n",
    "df_group_fare.head(3)"
   ]
  },
  {
   "cell_type": "code",
   "execution_count": 16,
   "metadata": {},
   "outputs": [],
   "source": [
    "df_group_pop.to_csv('../data/수정 후 데이터/무임승차 인구(2016~2021).csv', index=False)\n",
    "df_group_fare.to_csv('../data/수정 후 데이터/무임비용(2016~2021).csv', index=False)"
   ]
  },
  {
   "attachments": {},
   "cell_type": "markdown",
   "metadata": {},
   "source": [
    "## 2. 유무임 승하차 인원 정보 전처리"
   ]
  },
  {
   "cell_type": "code",
   "execution_count": 17,
   "metadata": {},
   "outputs": [
    {
     "data": {
      "text/html": [
       "<div>\n",
       "<style scoped>\n",
       "    .dataframe tbody tr th:only-of-type {\n",
       "        vertical-align: middle;\n",
       "    }\n",
       "\n",
       "    .dataframe tbody tr th {\n",
       "        vertical-align: top;\n",
       "    }\n",
       "\n",
       "    .dataframe thead th {\n",
       "        text-align: right;\n",
       "    }\n",
       "</style>\n",
       "<table border=\"1\" class=\"dataframe\">\n",
       "  <thead>\n",
       "    <tr style=\"text-align: right;\">\n",
       "      <th></th>\n",
       "      <th>사용월</th>\n",
       "      <th>호선명</th>\n",
       "      <th>지하철역</th>\n",
       "      <th>유임승차인원</th>\n",
       "      <th>무임승차인원</th>\n",
       "      <th>유임하차인원</th>\n",
       "      <th>무임하차인원</th>\n",
       "      <th>작업일자</th>\n",
       "    </tr>\n",
       "  </thead>\n",
       "  <tbody>\n",
       "    <tr>\n",
       "      <th>0</th>\n",
       "      <td>202212</td>\n",
       "      <td>1호선</td>\n",
       "      <td>서울역</td>\n",
       "      <td>1350791</td>\n",
       "      <td>196523</td>\n",
       "      <td>1316828</td>\n",
       "      <td>187268</td>\n",
       "      <td>20230103</td>\n",
       "    </tr>\n",
       "    <tr>\n",
       "      <th>1</th>\n",
       "      <td>202212</td>\n",
       "      <td>1호선</td>\n",
       "      <td>시청</td>\n",
       "      <td>672846</td>\n",
       "      <td>96623</td>\n",
       "      <td>665583</td>\n",
       "      <td>93198</td>\n",
       "      <td>20230103</td>\n",
       "    </tr>\n",
       "    <tr>\n",
       "      <th>2</th>\n",
       "      <td>202212</td>\n",
       "      <td>1호선</td>\n",
       "      <td>종각</td>\n",
       "      <td>975925</td>\n",
       "      <td>150911</td>\n",
       "      <td>949944</td>\n",
       "      <td>141309</td>\n",
       "      <td>20230103</td>\n",
       "    </tr>\n",
       "    <tr>\n",
       "      <th>3</th>\n",
       "      <td>202212</td>\n",
       "      <td>1호선</td>\n",
       "      <td>종로3가</td>\n",
       "      <td>490967</td>\n",
       "      <td>309071</td>\n",
       "      <td>450017</td>\n",
       "      <td>287432</td>\n",
       "      <td>20230103</td>\n",
       "    </tr>\n",
       "    <tr>\n",
       "      <th>4</th>\n",
       "      <td>202212</td>\n",
       "      <td>1호선</td>\n",
       "      <td>종로5가</td>\n",
       "      <td>476315</td>\n",
       "      <td>247835</td>\n",
       "      <td>470710</td>\n",
       "      <td>238588</td>\n",
       "      <td>20230103</td>\n",
       "    </tr>\n",
       "  </tbody>\n",
       "</table>\n",
       "</div>"
      ],
      "text/plain": [
       "      사용월  호선명  지하철역   유임승차인원  무임승차인원   유임하차인원  무임하차인원      작업일자\n",
       "0  202212  1호선   서울역  1350791  196523  1316828  187268  20230103\n",
       "1  202212  1호선    시청   672846   96623   665583   93198  20230103\n",
       "2  202212  1호선    종각   975925  150911   949944  141309  20230103\n",
       "3  202212  1호선  종로3가   490967  309071   450017  287432  20230103\n",
       "4  202212  1호선  종로5가   476315  247835   470710  238588  20230103"
      ]
     },
     "execution_count": 17,
     "metadata": {},
     "output_type": "execute_result"
    }
   ],
   "source": [
    "df_fares = pd.read_csv('../data/수정 전 데이터/서울시 지하철 호선별 역별 유_무임 승하차 인원 정보.csv', encoding='cp949')\n",
    "df_fares.head()"
   ]
  },
  {
   "cell_type": "code",
   "execution_count": 18,
   "metadata": {},
   "outputs": [
    {
     "name": "stdout",
     "output_type": "stream",
     "text": [
      "<class 'pandas.core.frame.DataFrame'>\n",
      "RangeIndex: 57394 entries, 0 to 57393\n",
      "Data columns (total 8 columns):\n",
      " #   Column  Non-Null Count  Dtype \n",
      "---  ------  --------------  ----- \n",
      " 0   사용월     57394 non-null  int64 \n",
      " 1   호선명     57394 non-null  object\n",
      " 2   지하철역    57394 non-null  object\n",
      " 3   유임승차인원  57394 non-null  int64 \n",
      " 4   무임승차인원  57394 non-null  int64 \n",
      " 5   유임하차인원  57394 non-null  int64 \n",
      " 6   무임하차인원  57394 non-null  int64 \n",
      " 7   작업일자    57394 non-null  int64 \n",
      "dtypes: int64(6), object(2)\n",
      "memory usage: 3.5+ MB\n"
     ]
    }
   ],
   "source": [
    "df_fares.info()"
   ]
  },
  {
   "cell_type": "code",
   "execution_count": 19,
   "metadata": {},
   "outputs": [],
   "source": [
    "# 사용월의 타입변경(int -> str)\n",
    "df_fares['사용월'] = df_fares['사용월'].astype('str')\n",
    "\n",
    "# 17~22년을 제외한 데이터 삭제\n",
    "df_fares.drop(df_fares[(df_fares['사용월'] < '201701') | (df_fares['사용월'] >= '202201')].index, axis=0, inplace=True)"
   ]
  },
  {
   "cell_type": "code",
   "execution_count": 20,
   "metadata": {},
   "outputs": [],
   "source": [
    "# 필요없는 column 삭제\n",
    "df_fares.drop(['작업일자'], axis=1, inplace=True)"
   ]
  },
  {
   "cell_type": "code",
   "execution_count": 21,
   "metadata": {},
   "outputs": [
    {
     "data": {
      "text/html": [
       "<div>\n",
       "<style scoped>\n",
       "    .dataframe tbody tr th:only-of-type {\n",
       "        vertical-align: middle;\n",
       "    }\n",
       "\n",
       "    .dataframe tbody tr th {\n",
       "        vertical-align: top;\n",
       "    }\n",
       "\n",
       "    .dataframe thead th {\n",
       "        text-align: right;\n",
       "    }\n",
       "</style>\n",
       "<table border=\"1\" class=\"dataframe\">\n",
       "  <thead>\n",
       "    <tr style=\"text-align: right;\">\n",
       "      <th></th>\n",
       "      <th>사용월</th>\n",
       "      <th>호선명</th>\n",
       "      <th>지하철역</th>\n",
       "      <th>유임승차인원</th>\n",
       "      <th>무임승차인원</th>\n",
       "      <th>유임하차인원</th>\n",
       "      <th>무임하차인원</th>\n",
       "    </tr>\n",
       "  </thead>\n",
       "  <tbody>\n",
       "    <tr>\n",
       "      <th>25762</th>\n",
       "      <td>201907</td>\n",
       "      <td>경강선</td>\n",
       "      <td>부발</td>\n",
       "      <td>50393</td>\n",
       "      <td>7281</td>\n",
       "      <td>47675</td>\n",
       "      <td>6980</td>\n",
       "    </tr>\n",
       "    <tr>\n",
       "      <th>25763</th>\n",
       "      <td>201907</td>\n",
       "      <td>경강선</td>\n",
       "      <td>경기광주</td>\n",
       "      <td>191098</td>\n",
       "      <td>28644</td>\n",
       "      <td>177103</td>\n",
       "      <td>29313</td>\n",
       "    </tr>\n",
       "    <tr>\n",
       "      <th>25764</th>\n",
       "      <td>201907</td>\n",
       "      <td>경강선</td>\n",
       "      <td>판교</td>\n",
       "      <td>119237</td>\n",
       "      <td>13987</td>\n",
       "      <td>119981</td>\n",
       "      <td>11269</td>\n",
       "    </tr>\n",
       "    <tr>\n",
       "      <th>25766</th>\n",
       "      <td>201907</td>\n",
       "      <td>경강선</td>\n",
       "      <td>신둔도예촌</td>\n",
       "      <td>31196</td>\n",
       "      <td>6564</td>\n",
       "      <td>29260</td>\n",
       "      <td>6369</td>\n",
       "    </tr>\n",
       "    <tr>\n",
       "      <th>25767</th>\n",
       "      <td>201907</td>\n",
       "      <td>경강선</td>\n",
       "      <td>세종대왕릉</td>\n",
       "      <td>6399</td>\n",
       "      <td>3355</td>\n",
       "      <td>6422</td>\n",
       "      <td>3395</td>\n",
       "    </tr>\n",
       "    <tr>\n",
       "      <th>...</th>\n",
       "      <td>...</td>\n",
       "      <td>...</td>\n",
       "      <td>...</td>\n",
       "      <td>...</td>\n",
       "      <td>...</td>\n",
       "      <td>...</td>\n",
       "      <td>...</td>\n",
       "    </tr>\n",
       "    <tr>\n",
       "      <th>36310</th>\n",
       "      <td>201803</td>\n",
       "      <td>중앙선</td>\n",
       "      <td>아신</td>\n",
       "      <td>17851</td>\n",
       "      <td>5963</td>\n",
       "      <td>18001</td>\n",
       "      <td>5895</td>\n",
       "    </tr>\n",
       "    <tr>\n",
       "      <th>36311</th>\n",
       "      <td>201803</td>\n",
       "      <td>중앙선</td>\n",
       "      <td>덕소</td>\n",
       "      <td>152670</td>\n",
       "      <td>52622</td>\n",
       "      <td>152150</td>\n",
       "      <td>52489</td>\n",
       "    </tr>\n",
       "    <tr>\n",
       "      <th>36312</th>\n",
       "      <td>201803</td>\n",
       "      <td>중앙선</td>\n",
       "      <td>망우</td>\n",
       "      <td>190694</td>\n",
       "      <td>72413</td>\n",
       "      <td>186142</td>\n",
       "      <td>73853</td>\n",
       "    </tr>\n",
       "    <tr>\n",
       "      <th>36313</th>\n",
       "      <td>201803</td>\n",
       "      <td>중앙선</td>\n",
       "      <td>구리</td>\n",
       "      <td>347445</td>\n",
       "      <td>87692</td>\n",
       "      <td>365874</td>\n",
       "      <td>89084</td>\n",
       "    </tr>\n",
       "    <tr>\n",
       "      <th>36314</th>\n",
       "      <td>201803</td>\n",
       "      <td>중앙선</td>\n",
       "      <td>도심</td>\n",
       "      <td>64538</td>\n",
       "      <td>21136</td>\n",
       "      <td>49716</td>\n",
       "      <td>20357</td>\n",
       "    </tr>\n",
       "  </tbody>\n",
       "</table>\n",
       "<p>805 rows × 7 columns</p>\n",
       "</div>"
      ],
      "text/plain": [
       "          사용월  호선명   지하철역  유임승차인원  무임승차인원  유임하차인원  무임하차인원\n",
       "25762  201907  경강선     부발   50393    7281   47675    6980\n",
       "25763  201907  경강선   경기광주  191098   28644  177103   29313\n",
       "25764  201907  경강선     판교  119237   13987  119981   11269\n",
       "25766  201907  경강선  신둔도예촌   31196    6564   29260    6369\n",
       "25767  201907  경강선  세종대왕릉    6399    3355    6422    3395\n",
       "...       ...  ...    ...     ...     ...     ...     ...\n",
       "36310  201803  중앙선     아신   17851    5963   18001    5895\n",
       "36311  201803  중앙선     덕소  152670   52622  152150   52489\n",
       "36312  201803  중앙선     망우  190694   72413  186142   73853\n",
       "36313  201803  중앙선     구리  347445   87692  365874   89084\n",
       "36314  201803  중앙선     도심   64538   21136   49716   20357\n",
       "\n",
       "[805 rows x 7 columns]"
      ]
     },
     "execution_count": 21,
     "metadata": {},
     "output_type": "execute_result"
    }
   ],
   "source": [
    "# 중복데이터 확인\n",
    "df_fares[df_fares.duplicated(df_fares.columns)]"
   ]
  },
  {
   "cell_type": "code",
   "execution_count": 22,
   "metadata": {},
   "outputs": [],
   "source": [
    "# 중복제거\n",
    "df_fares.drop_duplicates(df_fares.columns, keep = 'first', inplace=True)"
   ]
  },
  {
   "cell_type": "code",
   "execution_count": 23,
   "metadata": {},
   "outputs": [
    {
     "name": "stdout",
     "output_type": "stream",
     "text": [
      "<class 'pandas.core.frame.DataFrame'>\n",
      "RangeIndex: 35611 entries, 0 to 35610\n",
      "Data columns (total 7 columns):\n",
      " #   Column  Non-Null Count  Dtype \n",
      "---  ------  --------------  ----- \n",
      " 0   사용월     35611 non-null  object\n",
      " 1   호선명     35611 non-null  object\n",
      " 2   지하철역    35611 non-null  object\n",
      " 3   유임승차인원  35611 non-null  int64 \n",
      " 4   무임승차인원  35611 non-null  int64 \n",
      " 5   유임하차인원  35611 non-null  int64 \n",
      " 6   무임하차인원  35611 non-null  int64 \n",
      "dtypes: int64(4), object(3)\n",
      "memory usage: 1.9+ MB\n"
     ]
    }
   ],
   "source": [
    "df_fares.reset_index(drop=True, inplace=True)\n",
    "df_fares.info()"
   ]
  },
  {
   "cell_type": "code",
   "execution_count": 24,
   "metadata": {},
   "outputs": [
    {
     "data": {
      "text/plain": [
       "array(['1호선', '2호선', '3호선', '4호선', '5호선', '6호선', '7호선', '8호선', '9호선',\n",
       "       '9호선2~3단계', '경강선', '경부선', '경원선', '경의선', '경인선', '경춘선', '공항철도 1호선',\n",
       "       '과천선', '분당선', '수인선', '안산선', '우이신설선', '일산선', '장항선', '중앙선', '9호선2단계'],\n",
       "      dtype=object)"
      ]
     },
     "execution_count": 24,
     "metadata": {},
     "output_type": "execute_result"
    }
   ],
   "source": [
    "df_fares.호선명.unique()"
   ]
  },
  {
   "attachments": {},
   "cell_type": "markdown",
   "metadata": {},
   "source": [
    "### 1호선 전처리"
   ]
  },
  {
   "cell_type": "code",
   "execution_count": 25,
   "metadata": {},
   "outputs": [
    {
     "data": {
      "text/plain": [
       "array(['서울역', '제기동', '종각', '종로3가', '종로5가', '청량리(서울시립대입구)', '신설동', '동대문',\n",
       "       '시청', '동묘앞', '독산', '금천구청', '신길', '송탄', '화서', '진위', '용산', '서동탄',\n",
       "       '세류', '병점', '광명', '관악', '대방', '평택', '명학', '당정', '오산대', '평택지제',\n",
       "       '오산', '가산디지털단지', '천안', '안양', '남영', '서정리', '금정', '석수', '수원', '의왕',\n",
       "       '세마', '군포', '직산', '성균관대', '노량진', '두정', '성환', '영등포', '신도림', '구로',\n",
       "       '보산', '도봉산', '양주', '가능', '방학', '한남', '소요산', '서빙고', '이촌(국립중앙박물관)',\n",
       "       '덕정', '망월사', '창동', '석계', '광운대', '동두천중앙', '녹천', '동두천', '녹양', '덕계',\n",
       "       '옥수', '응봉', '의정부', '외대앞', '왕십리(성동구청)', '신이문', '회룡', '월계', '지행',\n",
       "       '도봉', '제물포', '도화', '동암', '중동', '개봉', '소사', '인천', '오류동', '간석', '부개',\n",
       "       '도원', '동인천', '온수(성공회대입구)', '부천', '부평', '백운', '주안', '역곡', '송내',\n",
       "       '구일', '아산', '온양온천', '탕정', '신창(순천향대)', '배방', '쌍용(나사렛대)', '봉명', '지제'],\n",
       "      dtype=object)"
      ]
     },
     "execution_count": 25,
     "metadata": {},
     "output_type": "execute_result"
    }
   ],
   "source": [
    "# 1호선 역 이름 확인\n",
    "df_fares[(df_fares['호선명'] == '1호선') | (df_fares['호선명'] == '경원선') | (df_fares['호선명'] == '경부선') | (df_fares['호선명'] == '경인선') | (df_fares['호선명'] == '장항선')].지하철역.unique()"
   ]
  },
  {
   "cell_type": "code",
   "execution_count": 26,
   "metadata": {},
   "outputs": [
    {
     "data": {
      "text/plain": [
       "105"
      ]
     },
     "execution_count": 26,
     "metadata": {},
     "output_type": "execute_result"
    }
   ],
   "source": [
    "# 1호선 역의 개수 확인\n",
    "df_fares[(df_fares['호선명'] == '1호선') | (df_fares['호선명'] == '경원선') | (df_fares['호선명'] == '경부선') | (df_fares['호선명'] == '경인선') | (df_fares['호선명'] == '장항선')].지하철역.nunique()"
   ]
  },
  {
   "cell_type": "code",
   "execution_count": 27,
   "metadata": {},
   "outputs": [],
   "source": [
    "# 다르게 표기된 역 이름 수정(지제 -> 평택지제)\n",
    "df_fares.replace('지제', '평택지제', inplace=True)"
   ]
  },
  {
   "cell_type": "code",
   "execution_count": 28,
   "metadata": {},
   "outputs": [],
   "source": [
    "# 잘못된 호선 수정\n",
    "df_fares.loc[(df_fares['지하철역'] == '청량리(서울시립대입구)') & (df_fares['호선명'] == '경원선'), '호선명'] = '중앙선'\n",
    "df_fares.loc[(df_fares['지하철역'] == '이촌(국립중앙박물관)') & (df_fares['호선명'] == '경원선'), '호선명'] = '중앙선'\n",
    "df_fares.loc[(df_fares['지하철역'] == '왕십리(성동구청)') & (df_fares['호선명'] == '경원선'), '호선명'] = '중앙선'\n",
    "df_fares.loc[(df_fares['지하철역'] == '옥수') & (df_fares['호선명'] == '경원선'), '호선명'] = '중앙선'\n",
    "df_fares.loc[(df_fares['지하철역'] == '한남') & (df_fares['호선명'] == '경원선'), '호선명'] = '중앙선'\n",
    "df_fares.loc[(df_fares['지하철역'] == '응봉') & (df_fares['호선명'] == '경원선'), '호선명'] = '중앙선'\n",
    "df_fares.loc[(df_fares['지하철역'] == '서빙고') & (df_fares['호선명'] == '경원선'), '호선명'] = '중앙선'\n",
    "df_fares.loc[(df_fares['지하철역'] == '회기') & (df_fares['호선명'] == '중앙선'), '호선명'] = '1호선'"
   ]
  },
  {
   "cell_type": "code",
   "execution_count": 29,
   "metadata": {},
   "outputs": [
    {
     "name": "stdout",
     "output_type": "stream",
     "text": [
      "60\n",
      "60\n",
      "60\n",
      "60\n",
      "60\n",
      "60\n",
      "60\n",
      "60\n"
     ]
    }
   ],
   "source": [
    "# 중복일이 있는지 확인\n",
    "print(df_fares[(df_fares['지하철역'].str.contains('지제'))].사용월.count())\n",
    "print(df_fares[(df_fares['지하철역'].str.contains('청량리')) & (df_fares['호선명'] == '중앙선')].사용월.count())\n",
    "print(df_fares[(df_fares['지하철역'].str.contains('이촌')) & (df_fares['호선명'] == '중앙선')].사용월.count())\n",
    "print(df_fares[(df_fares['지하철역'].str.contains('왕십리')) & (df_fares['호선명'] == '중앙선')].사용월.count())\n",
    "print(df_fares[(df_fares['지하철역'].str.contains('옥수')) & (df_fares['호선명'] == '중앙선')].사용월.count())\n",
    "print(df_fares[(df_fares['지하철역'].str.contains('한남')) & (df_fares['호선명'] == '중앙선')].사용월.count())\n",
    "print(df_fares[(df_fares['지하철역'].str.contains('응봉')) & (df_fares['호선명'] == '중앙선')].사용월.count())\n",
    "print(df_fares[(df_fares['지하철역'].str.contains('서빙고')) & (df_fares['호선명'] == '중앙선')].사용월.count())"
   ]
  },
  {
   "cell_type": "code",
   "execution_count": 30,
   "metadata": {},
   "outputs": [
    {
     "data": {
      "text/plain": [
       "99"
      ]
     },
     "execution_count": 30,
     "metadata": {},
     "output_type": "execute_result"
    }
   ],
   "source": [
    "df_fares[(df_fares['호선명'] == '1호선') | (df_fares['호선명'] == '경원선') | (df_fares['호선명'] == '경부선') | (df_fares['호선명'] == '경인선') | (df_fares['호선명'] == '장항선')].지하철역.nunique()"
   ]
  },
  {
   "cell_type": "code",
   "execution_count": 31,
   "metadata": {},
   "outputs": [
    {
     "data": {
      "text/plain": [
       "array(['1호선'], dtype=object)"
      ]
     },
     "execution_count": 31,
     "metadata": {},
     "output_type": "execute_result"
    }
   ],
   "source": [
    "# 회기역이 중앙선으로 빠짐\n",
    "df_fares.loc[(df_fares['지하철역'].str.contains('회기'))].호선명.unique()"
   ]
  },
  {
   "cell_type": "code",
   "execution_count": 32,
   "metadata": {},
   "outputs": [],
   "source": [
    "# '경원선', '경부선', '경인선', '장항선' -> 1호선\n",
    "df_fares.replace(['경원선', '경부선', '경인선', '장항선'], '1호선', inplace=True)"
   ]
  },
  {
   "attachments": {},
   "cell_type": "markdown",
   "metadata": {},
   "source": [
    "### 2호선 전처리"
   ]
  },
  {
   "cell_type": "code",
   "execution_count": 33,
   "metadata": {},
   "outputs": [
    {
     "data": {
      "text/plain": [
       "array(['한양대', '영등포구청', '양천구청', '뚝섬', '당산', '아현', '대림(구로구청)', '종합운동장',\n",
       "       '잠실새내', '서초', '방배', '잠실나루', '왕십리(성동구청)', '삼성(무역센터)', '교대(법원.검찰청)',\n",
       "       '이대', '을지로4가', '용답', '충정로(경기대입구)', '동대문역사문화공원(DDP)', '성수', '신정네거리',\n",
       "       '신설동', '문래', '낙성대(강감찬)', '을지로입구', '강변(동서울터미널)', '홍대입구', '강남',\n",
       "       '도림천', '구의(광진구청)', '을지로3가', '시청', '신촌', '신림', '신대방', '잠실(송파구청)',\n",
       "       '봉천', '서울대입구(관악구청)', '역삼', '건대입구', '합정', '선릉', '용두(동대문구청)', '신당',\n",
       "       '구로디지털단지', '신도림', '사당', '상왕십리', '신답', '낙성대', '동대문역사문화공원'],\n",
       "      dtype=object)"
      ]
     },
     "execution_count": 33,
     "metadata": {},
     "output_type": "execute_result"
    }
   ],
   "source": [
    "# 2호선 역 이름 확인\n",
    "df_fares[(df_fares['호선명'] == '2호선')].지하철역.unique()"
   ]
  },
  {
   "cell_type": "code",
   "execution_count": 34,
   "metadata": {},
   "outputs": [
    {
     "data": {
      "text/plain": [
       "52"
      ]
     },
     "execution_count": 34,
     "metadata": {},
     "output_type": "execute_result"
    }
   ],
   "source": [
    "# 2호선 역의 개수 확인\n",
    "df_fares[(df_fares['호선명'] == '2호선')].지하철역.nunique()"
   ]
  },
  {
   "cell_type": "code",
   "execution_count": 35,
   "metadata": {},
   "outputs": [],
   "source": [
    "# 다르게 표기된 역 이름 수정\n",
    "df_fares.replace('낙성대(강감찬)', '낙성대', inplace=True)\n",
    "df_fares.replace('동대문역사문화공원(DDP)', '동대문역사문화공원', inplace=True)"
   ]
  },
  {
   "cell_type": "code",
   "execution_count": 36,
   "metadata": {},
   "outputs": [
    {
     "name": "stdout",
     "output_type": "stream",
     "text": [
      "60\n",
      "60\n"
     ]
    }
   ],
   "source": [
    "# 중복일이 있는지 확인\n",
    "print(df_fares[(df_fares['지하철역'].str.contains('낙성대')) & (df_fares['호선명'] == '2호선')].사용월.count())\n",
    "print(df_fares[(df_fares['지하철역'].str.contains('동대문역사')) & (df_fares['호선명'] == '2호선')].사용월.count())"
   ]
  },
  {
   "cell_type": "code",
   "execution_count": 37,
   "metadata": {},
   "outputs": [
    {
     "data": {
      "text/plain": [
       "50"
      ]
     },
     "execution_count": 37,
     "metadata": {},
     "output_type": "execute_result"
    }
   ],
   "source": [
    "# 수정된 역의 개수 확인\n",
    "df_fares[(df_fares['호선명'] == '2호선')].지하철역.nunique()"
   ]
  },
  {
   "attachments": {},
   "cell_type": "markdown",
   "metadata": {},
   "source": [
    "### 3호선 전처리"
   ]
  },
  {
   "cell_type": "code",
   "execution_count": 38,
   "metadata": {},
   "outputs": [
    {
     "data": {
      "text/plain": [
       "array(['대청', '충무로', '오금', '학여울', '가락시장', '대치', '동대입구', '경찰병원', '잠원', '도곡',\n",
       "       '매봉', '무악재', '일원', '을지로3가', '약수', '종로3가', '안국', '구파발', '옥수', '압구정',\n",
       "       '고속터미널', '금호', '양재(서초구청)', '불광', '수서', '경복궁(정부서울청사)', '녹번', '연신내',\n",
       "       '신사', '홍제', '교대(법원.검찰청)', '남부터미널(예술의전당)', '독립문', '지축', '삼송', '정발산',\n",
       "       '주엽', '화정', '원당', '대화', '백석', '마두', '원흥', '대곡'], dtype=object)"
      ]
     },
     "execution_count": 38,
     "metadata": {},
     "output_type": "execute_result"
    }
   ],
   "source": [
    "# 3호선 역 이름 확인\n",
    "df_fares[(df_fares['호선명'] == '3호선') | (df_fares['호선명'] == '일산선')].지하철역.unique()"
   ]
  },
  {
   "cell_type": "code",
   "execution_count": 39,
   "metadata": {},
   "outputs": [
    {
     "data": {
      "text/plain": [
       "44"
      ]
     },
     "execution_count": 39,
     "metadata": {},
     "output_type": "execute_result"
    }
   ],
   "source": [
    "# 3호선 역의 개수 확인\n",
    "df_fares[(df_fares['호선명'] == '3호선') | (df_fares['호선명'] == '일산선')].지하철역.nunique()"
   ]
  },
  {
   "cell_type": "code",
   "execution_count": 40,
   "metadata": {},
   "outputs": [],
   "source": [
    "# '일산선' -> 3호선\n",
    "df_fares.replace('일산선', '3호선', inplace=True)"
   ]
  },
  {
   "attachments": {},
   "cell_type": "markdown",
   "metadata": {},
   "source": [
    "### 4호선 전처리"
   ]
  },
  {
   "cell_type": "code",
   "execution_count": 41,
   "metadata": {},
   "outputs": [
    {
     "data": {
      "text/plain": [
       "array(['남태령', '동작(현충원)', '삼각지', '명동', '신용산', '동대문', '창동', '노원',\n",
       "       '이촌(국립중앙박물관)', '총신대입구(이수)', '사당', '혜화', '길음', '쌍문', '숙대입구(갈월)',\n",
       "       '미아(서울사이버대학)', '수유(강북구청)', '당고개', '한성대입구(삼선교)', '서울역', '충무로',\n",
       "       '회현(남대문시장)', '동대문역사문화공원', '미아사거리', '성신여대입구(돈암)', '상계', '선바위', '과천',\n",
       "       '대공원', '평촌', '범계', '정부과천청사', '인덕원', '경마공원', '한대앞', '반월', '산본',\n",
       "       '고잔', '오이도', '신길온천', '안산', '정왕', '중앙', '상록수', '대야미', '수리산', '초지'],\n",
       "      dtype=object)"
      ]
     },
     "execution_count": 41,
     "metadata": {},
     "output_type": "execute_result"
    }
   ],
   "source": [
    "# 4호선 역 이름 확인\n",
    "df_fares[(df_fares['호선명'] == '4호선') | (df_fares['호선명'] == '안산선') | (df_fares['호선명'] == '과천선')].지하철역.unique()"
   ]
  },
  {
   "cell_type": "code",
   "execution_count": 42,
   "metadata": {},
   "outputs": [
    {
     "data": {
      "text/plain": [
       "47"
      ]
     },
     "execution_count": 42,
     "metadata": {},
     "output_type": "execute_result"
    }
   ],
   "source": [
    "# 4호선 역의 개수 확인\n",
    "df_fares[(df_fares['호선명'] == '4호선') | (df_fares['호선명'] == '안산선') | (df_fares['호선명'] == '과천선')].지하철역.nunique()"
   ]
  },
  {
   "cell_type": "code",
   "execution_count": 43,
   "metadata": {},
   "outputs": [],
   "source": [
    "# 다르게 표기된 역 이름 수정\n",
    "df_fares.replace('총신대입구(이수)', '이수', inplace=True)\n",
    "df_fares.replace('미아(서울사이버대학)', '미아', inplace=True)\n",
    "df_fares.replace('성신여대입구(돈암)', '성신여대입구', inplace=True)"
   ]
  },
  {
   "cell_type": "code",
   "execution_count": 44,
   "metadata": {},
   "outputs": [
    {
     "name": "stdout",
     "output_type": "stream",
     "text": [
      "120\n",
      "60\n"
     ]
    }
   ],
   "source": [
    "# 중복일이 있는지 확인\n",
    "print(df_fares[(df_fares['지하철역'].str.contains('미아')) & (df_fares['호선명'] == '4호선')].사용월.count()) # 미아사거리도 포함\n",
    "print(df_fares[(df_fares['지하철역'].str.contains('성신여대')) & (df_fares['호선명'] == '4호선')].사용월.count())"
   ]
  },
  {
   "cell_type": "code",
   "execution_count": 45,
   "metadata": {},
   "outputs": [
    {
     "data": {
      "text/plain": [
       "47"
      ]
     },
     "execution_count": 45,
     "metadata": {},
     "output_type": "execute_result"
    }
   ],
   "source": [
    "# 수정된 역의 개수 확인\n",
    "df_fares[(df_fares['호선명'] == '4호선') | (df_fares['호선명'] == '안산선') | (df_fares['호선명'] == '과천선')].지하철역.nunique()"
   ]
  },
  {
   "cell_type": "code",
   "execution_count": 46,
   "metadata": {},
   "outputs": [
    {
     "data": {
      "text/plain": [
       "array(['1호선'], dtype=object)"
      ]
     },
     "execution_count": 46,
     "metadata": {},
     "output_type": "execute_result"
    }
   ],
   "source": [
    "# 금정역이 1호선으로 빠짐\n",
    "df_fares.loc[(df_fares['지하철역'].str.contains('금정'))].호선명.unique()"
   ]
  },
  {
   "cell_type": "code",
   "execution_count": 47,
   "metadata": {},
   "outputs": [],
   "source": [
    "# '안산선','과천선' -> 4호선\n",
    "df_fares.replace(['안산선','과천선'], '4호선', inplace=True)"
   ]
  },
  {
   "attachments": {},
   "cell_type": "markdown",
   "metadata": {},
   "source": [
    "### 5호선 전처리"
   ]
  },
  {
   "cell_type": "code",
   "execution_count": 48,
   "metadata": {},
   "outputs": [
    {
     "data": {
      "text/plain": [
       "array(['신길', '강동', '신금호', '길동', '강일', '아차산(어린이대공원후문)', '동대문역사문화공원', '마포',\n",
       "       '굽은다리(강동구민회관앞)', '답십리', '올림픽공원(한국체대)', '을지로4가', '발산', '청구', '방이',\n",
       "       '명일', '장한평', '신정(은행정)', '왕십리(성동구청)', '행당', '공덕', '우장산', '서대문',\n",
       "       '개화산', '충정로(경기대입구)', '광나루(장신대)', '마천', '오목교(목동운동장앞)', '애오개', '마장',\n",
       "       '마곡', '고덕', '김포공항', '미사', '영등포구청', '천호(풍납토성)', '양평', '여의나루',\n",
       "       '영등포시장', '여의도', '하남검단산', '목동', '오금', '종로3가', '송정', '방화',\n",
       "       '하남시청(덕풍?신장)', '군자(능동)', '까치산', '하남풍산', '개롱', '광화문(세종문화회관)', '상일동',\n",
       "       '화곡', '둔촌동', '거여'], dtype=object)"
      ]
     },
     "execution_count": 48,
     "metadata": {},
     "output_type": "execute_result"
    }
   ],
   "source": [
    "# 5호선 역 이름 확인\n",
    "df_fares[(df_fares['호선명'] == '5호선') | (df_fares['호선명'] == '하남선')].지하철역.unique()"
   ]
  },
  {
   "cell_type": "code",
   "execution_count": 49,
   "metadata": {},
   "outputs": [
    {
     "data": {
      "text/plain": [
       "56"
      ]
     },
     "execution_count": 49,
     "metadata": {},
     "output_type": "execute_result"
    }
   ],
   "source": [
    "# 5호선 역의 개수 확인\n",
    "df_fares[(df_fares['호선명'] == '5호선') | (df_fares['호선명'] == '하남선')].지하철역.nunique()"
   ]
  },
  {
   "cell_type": "code",
   "execution_count": 50,
   "metadata": {},
   "outputs": [],
   "source": [
    "# 이상하게 표기된 역 이름 수정\n",
    "df_fares.replace('하남시청(덕풍?신장)', '하남시청', inplace=True)"
   ]
  },
  {
   "cell_type": "code",
   "execution_count": 51,
   "metadata": {},
   "outputs": [],
   "source": [
    "# '하남선' -> 5호선\n",
    "df_fares.replace('하남선', '5호선', inplace=True)"
   ]
  },
  {
   "attachments": {},
   "cell_type": "markdown",
   "metadata": {},
   "source": [
    "### 6호선 전처리"
   ]
  },
  {
   "cell_type": "code",
   "execution_count": 52,
   "metadata": {},
   "outputs": [
    {
     "data": {
      "text/plain": [
       "array(['녹사평(용산구청)', '신내', '보문', '청구', '태릉입구', '고려대(종암)', '응암', '디지털미디어시티',\n",
       "       '안암(고대병원앞)', '돌곶이', '동묘앞', '대흥(서강대앞)', '새절(신사)', '독바위', '석계',\n",
       "       '버티고개', '상월곡(한국과학기술연구원)', '역촌', '약수', '망원', '한강진', '상수', '구산',\n",
       "       '월곡(동덕여대)', '신당', '이태원', '공덕', '불광', '증산(명지대앞)', '월드컵경기장(성산)',\n",
       "       '삼각지', '합정', '봉화산(서울의료원)', '화랑대(서울여대입구)', '광흥창(서강)', '마포구청',\n",
       "       '효창공원앞', '연신내', '창신'], dtype=object)"
      ]
     },
     "execution_count": 52,
     "metadata": {},
     "output_type": "execute_result"
    }
   ],
   "source": [
    "# 6호선 역 이름 확인\n",
    "df_fares[(df_fares['호선명'] == '6호선')].지하철역.unique()"
   ]
  },
  {
   "cell_type": "code",
   "execution_count": 53,
   "metadata": {},
   "outputs": [
    {
     "data": {
      "text/plain": [
       "39"
      ]
     },
     "execution_count": 53,
     "metadata": {},
     "output_type": "execute_result"
    }
   ],
   "source": [
    "# 6호선 역의 개수 확인\n",
    "df_fares[(df_fares['호선명'] == '6호선')].지하철역.nunique()"
   ]
  },
  {
   "attachments": {},
   "cell_type": "markdown",
   "metadata": {},
   "source": [
    "### 7호선 전처리"
   ]
  },
  {
   "cell_type": "code",
   "execution_count": 54,
   "metadata": {},
   "outputs": [
    {
     "data": {
      "text/plain": [
       "array(['중계', '면목', '신대방삼거리', '광명사거리', '학동', '부천시청', '상도', '부평구청',\n",
       "       '대림(구로구청)', '장승배기', '내방', '마들', '뚝섬유원지', '춘의', '숭실대입구(살피재)',\n",
       "       '어린이대공원(세종대)', '보라매', '까치울', '반포', '청담', '군자(능동)', '가산디지털단지',\n",
       "       '남구로', '굴포천', '중화', '상동', '공릉(서울과학기술대)', '신풍', '고속터미널', '철산', '천왕',\n",
       "       '용마산(용마폭포공원)', '먹골', '태릉입구', '삼산체육관', '신중동', '온수(성공회대입구)', '장암',\n",
       "       '부천종합운동장', '남성', '상봉(시외버스터미널)', '수락산', '논현', '노원', '사가정', '하계',\n",
       "       '중곡', '건대입구', '도봉산', '이수', '강남구청', '용마산'], dtype=object)"
      ]
     },
     "execution_count": 54,
     "metadata": {},
     "output_type": "execute_result"
    }
   ],
   "source": [
    "# 7호선 역 이름 확인\n",
    "df_fares[(df_fares['호선명'] == '7호선')].지하철역.unique()"
   ]
  },
  {
   "cell_type": "code",
   "execution_count": 55,
   "metadata": {},
   "outputs": [
    {
     "data": {
      "text/plain": [
       "52"
      ]
     },
     "execution_count": 55,
     "metadata": {},
     "output_type": "execute_result"
    }
   ],
   "source": [
    "# 7호선 역의 개수 확인\n",
    "df_fares[(df_fares['호선명'] == '7호선')].지하철역.nunique()"
   ]
  },
  {
   "cell_type": "code",
   "execution_count": 56,
   "metadata": {},
   "outputs": [],
   "source": [
    "# 다르게 표기된 역 이름 수정(용마산(용마폭포공원) -> 용마산)\n",
    "df_fares.replace('용마산(용마폭포공원)', '용마산', inplace=True)"
   ]
  },
  {
   "cell_type": "code",
   "execution_count": 57,
   "metadata": {},
   "outputs": [
    {
     "data": {
      "text/plain": [
       "51"
      ]
     },
     "execution_count": 57,
     "metadata": {},
     "output_type": "execute_result"
    }
   ],
   "source": [
    "# 수정된 역의 개수 확인\n",
    "df_fares[(df_fares['호선명'] == '7호선')].지하철역.nunique()"
   ]
  },
  {
   "attachments": {},
   "cell_type": "markdown",
   "metadata": {},
   "source": [
    "### 8호선 전처리"
   ]
  },
  {
   "cell_type": "code",
   "execution_count": 58,
   "metadata": {},
   "outputs": [
    {
     "data": {
      "text/plain": [
       "array(['가락시장', '단대오거리', '남한산성입구(성남법원.검찰청)', '송파', '남위례', '장지', '암사', '수진',\n",
       "       '천호(풍납토성)', '문정', '신흥', '강동구청', '잠실(송파구청)', '산성', '복정', '모란',\n",
       "       '몽촌토성(평화의문)', '석촌'], dtype=object)"
      ]
     },
     "execution_count": 58,
     "metadata": {},
     "output_type": "execute_result"
    }
   ],
   "source": [
    "# 8호선 역 이름 확인\n",
    "df_fares[(df_fares['호선명'] == '8호선')].지하철역.unique()"
   ]
  },
  {
   "cell_type": "code",
   "execution_count": 59,
   "metadata": {},
   "outputs": [
    {
     "data": {
      "text/plain": [
       "18"
      ]
     },
     "execution_count": 59,
     "metadata": {},
     "output_type": "execute_result"
    }
   ],
   "source": [
    "# 8호선 역의 개수 확인\n",
    "df_fares[(df_fares['호선명'] == '8호선')].지하철역.nunique()"
   ]
  },
  {
   "attachments": {},
   "cell_type": "markdown",
   "metadata": {},
   "source": [
    "### 9호선 전처리"
   ]
  },
  {
   "cell_type": "code",
   "execution_count": 60,
   "metadata": {},
   "outputs": [
    {
     "data": {
      "text/plain": [
       "array(['개화', '여의도', '가양', '신논현', '고속터미널', '공항시장', '신반포', '신방화', '증미',\n",
       "       '김포공항', '사평', '노량진', '동작(현충원)', '염창', '구반포', '선유도', '신목동', '샛강',\n",
       "       '당산', '마곡나루(서울식물원)', '등촌', '국회의사당', '양천향교', '노들', '흑석(중앙대입구)',\n",
       "       '삼전', '종합운동장', '석촌', '석촌고분', '삼성중앙', '둔촌오륜', '중앙보훈병원', '봉은사',\n",
       "       '선정릉', '한성백제', '올림픽공원(한국체대)', '송파나루', '언주', '마곡나루'], dtype=object)"
      ]
     },
     "execution_count": 60,
     "metadata": {},
     "output_type": "execute_result"
    }
   ],
   "source": [
    "# 9호선 역 이름 확인\n",
    "df_fares[(df_fares['호선명'] == '9호선') | (df_fares['호선명'] == '9호선2~3단계') | (df_fares['호선명'] == '9호선2단계')].지하철역.unique()"
   ]
  },
  {
   "cell_type": "code",
   "execution_count": 61,
   "metadata": {},
   "outputs": [
    {
     "data": {
      "text/plain": [
       "39"
      ]
     },
     "execution_count": 61,
     "metadata": {},
     "output_type": "execute_result"
    }
   ],
   "source": [
    "# 9호선 역의 개수 확인\n",
    "df_fares[(df_fares['호선명'] == '9호선') | (df_fares['호선명'] == '9호선2~3단계') | (df_fares['호선명'] == '9호선2단계')].지하철역.nunique()"
   ]
  },
  {
   "cell_type": "code",
   "execution_count": 62,
   "metadata": {},
   "outputs": [],
   "source": [
    "# 다르게 표기된 역 이름 수정\n",
    "df_fares.replace('마곡나루(서울식물원)', '마곡나루', inplace=True)"
   ]
  },
  {
   "cell_type": "code",
   "execution_count": 63,
   "metadata": {},
   "outputs": [
    {
     "name": "stdout",
     "output_type": "stream",
     "text": [
      "60\n",
      "60\n"
     ]
    }
   ],
   "source": [
    "# 중복일이 있는지 확인\n",
    "print(df_fares[(df_fares['지하철역'].str.contains('마곡나루')) & (df_fares['호선명'].str.contains('9호선'))].사용월.count())\n",
    "print(df_fares[(df_fares['지하철역'].str.contains('종합운동장')) & (df_fares['호선명'].str.contains('9호선'))].사용월.count())"
   ]
  },
  {
   "cell_type": "code",
   "execution_count": 64,
   "metadata": {},
   "outputs": [
    {
     "data": {
      "text/plain": [
       "38"
      ]
     },
     "execution_count": 64,
     "metadata": {},
     "output_type": "execute_result"
    }
   ],
   "source": [
    "# 수정된 역의 개수 확인\n",
    "df_fares[(df_fares['호선명'] == '9호선') | (df_fares['호선명'] == '9호선2~3단계') | (df_fares['호선명'] == '9호선2단계')].지하철역.nunique()"
   ]
  },
  {
   "cell_type": "code",
   "execution_count": 65,
   "metadata": {},
   "outputs": [],
   "source": [
    "df_fares.replace(['9호선2~3단계','9호선2단계'], '9호선', inplace=True)"
   ]
  },
  {
   "cell_type": "code",
   "execution_count": 66,
   "metadata": {},
   "outputs": [],
   "source": [
    "df_fares.to_csv('유무임승하차인원1~9.csv', index=False)"
   ]
  }
 ],
 "metadata": {
  "kernelspec": {
   "display_name": "base",
   "language": "python",
   "name": "python3"
  },
  "language_info": {
   "codemirror_mode": {
    "name": "ipython",
    "version": 3
   },
   "file_extension": ".py",
   "mimetype": "text/x-python",
   "name": "python",
   "nbconvert_exporter": "python",
   "pygments_lexer": "ipython3",
   "version": "3.9.16"
  },
  "orig_nbformat": 4
 },
 "nbformat": 4,
 "nbformat_minor": 2
}
