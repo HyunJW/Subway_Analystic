{
 "cells": [
  {
   "cell_type": "code",
   "execution_count": 1,
   "metadata": {},
   "outputs": [],
   "source": [
    "import pandas as pd"
   ]
  },
  {
   "cell_type": "code",
   "execution_count": 2,
   "metadata": {},
   "outputs": [
    {
     "data": {
      "text/html": [
       "<div>\n",
       "<style scoped>\n",
       "    .dataframe tbody tr th:only-of-type {\n",
       "        vertical-align: middle;\n",
       "    }\n",
       "\n",
       "    .dataframe tbody tr th {\n",
       "        vertical-align: top;\n",
       "    }\n",
       "\n",
       "    .dataframe thead th {\n",
       "        text-align: right;\n",
       "    }\n",
       "</style>\n",
       "<table border=\"1\" class=\"dataframe\">\n",
       "  <thead>\n",
       "    <tr style=\"text-align: right;\">\n",
       "      <th></th>\n",
       "      <th>연번</th>\n",
       "      <th>호선</th>\n",
       "      <th>역명</th>\n",
       "      <th>형식</th>\n",
       "      <th>길이(M)</th>\n",
       "      <th>층수</th>\n",
       "      <th>면적(m²)</th>\n",
       "      <th>준공연도</th>\n",
       "    </tr>\n",
       "  </thead>\n",
       "  <tbody>\n",
       "    <tr>\n",
       "      <th>0</th>\n",
       "      <td>1</td>\n",
       "      <td>1</td>\n",
       "      <td>서울</td>\n",
       "      <td>섬식</td>\n",
       "      <td>210</td>\n",
       "      <td>B2</td>\n",
       "      <td>10805.0</td>\n",
       "      <td>1974</td>\n",
       "    </tr>\n",
       "    <tr>\n",
       "      <th>1</th>\n",
       "      <td>2</td>\n",
       "      <td>1</td>\n",
       "      <td>시청</td>\n",
       "      <td>상대식</td>\n",
       "      <td>210</td>\n",
       "      <td>B2</td>\n",
       "      <td>11317.0</td>\n",
       "      <td>1974</td>\n",
       "    </tr>\n",
       "    <tr>\n",
       "      <th>2</th>\n",
       "      <td>3</td>\n",
       "      <td>1</td>\n",
       "      <td>종각</td>\n",
       "      <td>상대식</td>\n",
       "      <td>210</td>\n",
       "      <td>B2</td>\n",
       "      <td>10410.2</td>\n",
       "      <td>1974</td>\n",
       "    </tr>\n",
       "    <tr>\n",
       "      <th>3</th>\n",
       "      <td>4</td>\n",
       "      <td>1</td>\n",
       "      <td>종로3가</td>\n",
       "      <td>상대식</td>\n",
       "      <td>210</td>\n",
       "      <td>B2</td>\n",
       "      <td>9311.0</td>\n",
       "      <td>1974</td>\n",
       "    </tr>\n",
       "    <tr>\n",
       "      <th>4</th>\n",
       "      <td>5</td>\n",
       "      <td>1</td>\n",
       "      <td>종로5가</td>\n",
       "      <td>상대식</td>\n",
       "      <td>210</td>\n",
       "      <td>B2</td>\n",
       "      <td>10465.0</td>\n",
       "      <td>1974</td>\n",
       "    </tr>\n",
       "  </tbody>\n",
       "</table>\n",
       "</div>"
      ],
      "text/plain": [
       "   연번  호선    역명   형식  길이(M)  층수   면적(m²)  준공연도\n",
       "0   1   1    서울   섬식    210  B2  10805.0  1974\n",
       "1   2   1    시청  상대식    210  B2  11317.0  1974\n",
       "2   3   1    종각  상대식    210  B2  10410.2  1974\n",
       "3   4   1  종로3가  상대식    210  B2   9311.0  1974\n",
       "4   5   1  종로5가  상대식    210  B2  10465.0  1974"
      ]
     },
     "execution_count": 2,
     "metadata": {},
     "output_type": "execute_result"
    }
   ],
   "source": [
    "build_info = pd.read_csv(\"../data/수정 전 데이터/서울교통공사_역사건축정보_20210628.csv\", encoding=\"cp949\")\n",
    "build_info.head()"
   ]
  },
  {
   "cell_type": "code",
   "execution_count": 3,
   "metadata": {},
   "outputs": [
    {
     "name": "stdout",
     "output_type": "stream",
     "text": [
      "<class 'pandas.core.frame.DataFrame'>\n",
      "RangeIndex: 296 entries, 0 to 295\n",
      "Data columns (total 8 columns):\n",
      " #   Column  Non-Null Count  Dtype  \n",
      "---  ------  --------------  -----  \n",
      " 0   연번      296 non-null    int64  \n",
      " 1   호선      296 non-null    int64  \n",
      " 2   역명      296 non-null    object \n",
      " 3   형식      296 non-null    object \n",
      " 4   길이(M)   296 non-null    int64  \n",
      " 5   층수      296 non-null    object \n",
      " 6   면적(m²)  296 non-null    float64\n",
      " 7   준공연도    296 non-null    int64  \n",
      "dtypes: float64(1), int64(4), object(3)\n",
      "memory usage: 18.6+ KB\n"
     ]
    }
   ],
   "source": [
    "build_info.info()"
   ]
  },
  {
   "cell_type": "code",
   "execution_count": 4,
   "metadata": {},
   "outputs": [
    {
     "data": {
      "text/html": [
       "<div>\n",
       "<style scoped>\n",
       "    .dataframe tbody tr th:only-of-type {\n",
       "        vertical-align: middle;\n",
       "    }\n",
       "\n",
       "    .dataframe tbody tr th {\n",
       "        vertical-align: top;\n",
       "    }\n",
       "\n",
       "    .dataframe thead th {\n",
       "        text-align: right;\n",
       "    }\n",
       "</style>\n",
       "<table border=\"1\" class=\"dataframe\">\n",
       "  <thead>\n",
       "    <tr style=\"text-align: right;\">\n",
       "      <th></th>\n",
       "      <th>철도운영기관명</th>\n",
       "      <th>선명</th>\n",
       "      <th>역명</th>\n",
       "      <th>지상구분</th>\n",
       "      <th>역층</th>\n",
       "      <th>면적</th>\n",
       "    </tr>\n",
       "  </thead>\n",
       "  <tbody>\n",
       "    <tr>\n",
       "      <th>0</th>\n",
       "      <td>서울교통공사</td>\n",
       "      <td>1호선</td>\n",
       "      <td>동대문</td>\n",
       "      <td>지하</td>\n",
       "      <td>2</td>\n",
       "      <td>3400.0</td>\n",
       "    </tr>\n",
       "    <tr>\n",
       "      <th>1</th>\n",
       "      <td>서울교통공사</td>\n",
       "      <td>1호선</td>\n",
       "      <td>동대문</td>\n",
       "      <td>지하</td>\n",
       "      <td>1</td>\n",
       "      <td>2090.0</td>\n",
       "    </tr>\n",
       "    <tr>\n",
       "      <th>2</th>\n",
       "      <td>서울교통공사</td>\n",
       "      <td>1호선</td>\n",
       "      <td>동묘앞</td>\n",
       "      <td>지하</td>\n",
       "      <td>2</td>\n",
       "      <td>5132.0</td>\n",
       "    </tr>\n",
       "    <tr>\n",
       "      <th>3</th>\n",
       "      <td>서울교통공사</td>\n",
       "      <td>1호선</td>\n",
       "      <td>동묘앞</td>\n",
       "      <td>지하</td>\n",
       "      <td>1</td>\n",
       "      <td>5132.0</td>\n",
       "    </tr>\n",
       "    <tr>\n",
       "      <th>4</th>\n",
       "      <td>서울교통공사</td>\n",
       "      <td>1호선</td>\n",
       "      <td>서울역</td>\n",
       "      <td>지하</td>\n",
       "      <td>1</td>\n",
       "      <td>8725.0</td>\n",
       "    </tr>\n",
       "  </tbody>\n",
       "</table>\n",
       "</div>"
      ],
      "text/plain": [
       "  철도운영기관명   선명   역명 지상구분  역층      면적\n",
       "0  서울교통공사  1호선  동대문   지하   2  3400.0\n",
       "1  서울교통공사  1호선  동대문   지하   1  2090.0\n",
       "2  서울교통공사  1호선  동묘앞   지하   2  5132.0\n",
       "3  서울교통공사  1호선  동묘앞   지하   1  5132.0\n",
       "4  서울교통공사  1호선  서울역   지하   1  8725.0"
      ]
     },
     "execution_count": 4,
     "metadata": {},
     "output_type": "execute_result"
    }
   ],
   "source": [
    "build_info1 = pd.read_csv(\"../data/수정 전 데이터/국가철도공단_수도권1호선_역구조_데이터_20221013.csv\", encoding=\"cp949\")\n",
    "build_info1.head()"
   ]
  },
  {
   "cell_type": "code",
   "execution_count": 5,
   "metadata": {},
   "outputs": [
    {
     "name": "stdout",
     "output_type": "stream",
     "text": [
      "<class 'pandas.core.frame.DataFrame'>\n",
      "RangeIndex: 205 entries, 0 to 204\n",
      "Data columns (total 6 columns):\n",
      " #   Column   Non-Null Count  Dtype  \n",
      "---  ------   --------------  -----  \n",
      " 0   철도운영기관명  205 non-null    object \n",
      " 1   선명       205 non-null    object \n",
      " 2   역명       205 non-null    object \n",
      " 3   지상구분     205 non-null    object \n",
      " 4   역층       205 non-null    int64  \n",
      " 5   면적       90 non-null     float64\n",
      "dtypes: float64(1), int64(1), object(4)\n",
      "memory usage: 9.7+ KB\n"
     ]
    }
   ],
   "source": [
    "build_info1.info()"
   ]
  },
  {
   "cell_type": "code",
   "execution_count": 6,
   "metadata": {},
   "outputs": [
    {
     "data": {
      "text/html": [
       "<div>\n",
       "<style scoped>\n",
       "    .dataframe tbody tr th:only-of-type {\n",
       "        vertical-align: middle;\n",
       "    }\n",
       "\n",
       "    .dataframe tbody tr th {\n",
       "        vertical-align: top;\n",
       "    }\n",
       "\n",
       "    .dataframe thead th {\n",
       "        text-align: right;\n",
       "    }\n",
       "</style>\n",
       "<table border=\"1\" class=\"dataframe\">\n",
       "  <thead>\n",
       "    <tr style=\"text-align: right;\">\n",
       "      <th></th>\n",
       "      <th>철도운영기관명</th>\n",
       "      <th>선명</th>\n",
       "      <th>역명</th>\n",
       "      <th>지상구분</th>\n",
       "      <th>역층</th>\n",
       "      <th>면적</th>\n",
       "    </tr>\n",
       "  </thead>\n",
       "  <tbody>\n",
       "    <tr>\n",
       "      <th>0</th>\n",
       "      <td>코레일</td>\n",
       "      <td>1호선</td>\n",
       "      <td>오산</td>\n",
       "      <td>지상</td>\n",
       "      <td>2</td>\n",
       "      <td>NaN</td>\n",
       "    </tr>\n",
       "    <tr>\n",
       "      <th>1</th>\n",
       "      <td>코레일</td>\n",
       "      <td>1호선</td>\n",
       "      <td>오산대</td>\n",
       "      <td>지상</td>\n",
       "      <td>1</td>\n",
       "      <td>2890.0</td>\n",
       "    </tr>\n",
       "    <tr>\n",
       "      <th>2</th>\n",
       "      <td>코레일</td>\n",
       "      <td>1호선</td>\n",
       "      <td>오산대</td>\n",
       "      <td>지상</td>\n",
       "      <td>2</td>\n",
       "      <td>NaN</td>\n",
       "    </tr>\n",
       "    <tr>\n",
       "      <th>3</th>\n",
       "      <td>코레일</td>\n",
       "      <td>1호선</td>\n",
       "      <td>온수</td>\n",
       "      <td>지상</td>\n",
       "      <td>1</td>\n",
       "      <td>NaN</td>\n",
       "    </tr>\n",
       "    <tr>\n",
       "      <th>4</th>\n",
       "      <td>코레일</td>\n",
       "      <td>1호선</td>\n",
       "      <td>온수</td>\n",
       "      <td>지상</td>\n",
       "      <td>2</td>\n",
       "      <td>NaN</td>\n",
       "    </tr>\n",
       "  </tbody>\n",
       "</table>\n",
       "</div>"
      ],
      "text/plain": [
       "  철도운영기관명   선명   역명 지상구분  역층      면적\n",
       "0     코레일  1호선   오산   지상   2     NaN\n",
       "1     코레일  1호선  오산대   지상   1  2890.0\n",
       "2     코레일  1호선  오산대   지상   2     NaN\n",
       "3     코레일  1호선   온수   지상   1     NaN\n",
       "4     코레일  1호선   온수   지상   2     NaN"
      ]
     },
     "execution_count": 6,
     "metadata": {},
     "output_type": "execute_result"
    }
   ],
   "source": [
    "build_info2 = pd.read_csv(\"../data/수정 전 데이터/국가철도공단_코레일_역구조_데이터_20220920.csv\", encoding=\"cp949\")\n",
    "build_info2.head()"
   ]
  },
  {
   "cell_type": "code",
   "execution_count": 7,
   "metadata": {},
   "outputs": [
    {
     "name": "stdout",
     "output_type": "stream",
     "text": [
      "<class 'pandas.core.frame.DataFrame'>\n",
      "RangeIndex: 539 entries, 0 to 538\n",
      "Data columns (total 6 columns):\n",
      " #   Column   Non-Null Count  Dtype  \n",
      "---  ------   --------------  -----  \n",
      " 0   철도운영기관명  539 non-null    object \n",
      " 1   선명       539 non-null    object \n",
      " 2   역명       539 non-null    object \n",
      " 3   지상구분     539 non-null    object \n",
      " 4   역층       539 non-null    int64  \n",
      " 5   면적       108 non-null    float64\n",
      "dtypes: float64(1), int64(1), object(4)\n",
      "memory usage: 25.4+ KB\n"
     ]
    }
   ],
   "source": [
    "build_info2.info()"
   ]
  },
  {
   "cell_type": "code",
   "execution_count": 8,
   "metadata": {},
   "outputs": [],
   "source": [
    "# 필요한 컬럼만 추출\n",
    "build_info = build_info[['역명', '면적(m²)', '층수']]\n",
    "build_info1 = build_info1[['역명', '면적', '역층']]\n",
    "build_info2 = build_info2[['역명', '면적', '역층']]"
   ]
  },
  {
   "cell_type": "code",
   "execution_count": 9,
   "metadata": {},
   "outputs": [
    {
     "data": {
      "text/plain": [
       "258"
      ]
     },
     "execution_count": 9,
     "metadata": {},
     "output_type": "execute_result"
    }
   ],
   "source": [
    "# 역명 중복확인\n",
    "build_info['역명'].nunique()"
   ]
  },
  {
   "cell_type": "code",
   "execution_count": 10,
   "metadata": {},
   "outputs": [],
   "source": [
    "build_info['층수'].replace({\n",
    "    'B2': 2, '5FB2': 7, 'B3': 3, '2F': 2, '3F': 3, '1F': 1, 'B1': 1, '2FB3': 5, 'B4': 4, '4F': 4, \n",
    "    '1FB5': 6, '2FB2': 4, 'B5': 5, 'B6': 6, 'B8': 8, '1FB2': 3, '1FB3': 4, '2FB1': 3\n",
    "    }, inplace=True)"
   ]
  },
  {
   "cell_type": "code",
   "execution_count": 11,
   "metadata": {},
   "outputs": [],
   "source": [
    "# 역별 총 면적, 층수\n",
    "build_info_floor = build_info.groupby('역명')[['층수']].sum()\n",
    "build_info = build_info.groupby('역명').sum()\n",
    "build_info1_floor = build_info1.groupby('역명')[['역층']].max()\n",
    "build_info1 = build_info1.groupby('역명').sum()\n",
    "build_info2_floor = build_info2.groupby('역명')[['역층']].max()\n",
    "build_info2 = build_info2.groupby('역명').sum()"
   ]
  },
  {
   "cell_type": "code",
   "execution_count": 12,
   "metadata": {},
   "outputs": [],
   "source": [
    "build_info1.drop(columns='역층', inplace=True)\n",
    "build_info2.drop(columns='역층', inplace=True)"
   ]
  },
  {
   "cell_type": "code",
   "execution_count": 13,
   "metadata": {},
   "outputs": [],
   "source": [
    "build_info['층수'] = build_info_floor\n",
    "build_info1['층수'] = build_info1_floor\n",
    "build_info2['층수'] = build_info2_floor"
   ]
  },
  {
   "cell_type": "code",
   "execution_count": 14,
   "metadata": {},
   "outputs": [],
   "source": [
    "build_info.reset_index(inplace=True)\n",
    "build_info1.reset_index(inplace=True)\n",
    "build_info2.reset_index(inplace=True)"
   ]
  },
  {
   "cell_type": "code",
   "execution_count": 15,
   "metadata": {},
   "outputs": [],
   "source": [
    "build_info.columns = ['지하철역', '면적', '층수']\n",
    "build_info1.columns = ['지하철역', '면적', '층수']\n",
    "build_info2.columns = ['지하철역', '면적', '층수']"
   ]
  },
  {
   "cell_type": "code",
   "execution_count": 16,
   "metadata": {},
   "outputs": [],
   "source": [
    "# build_info와 겹치는 build_info1의 역데이터는 삭제\n",
    "for i in build_info['지하철역']:\n",
    "    if len(build_info1[build_info1['지하철역'].str.contains(i)]) != 0:\n",
    "        index = build_info[build_info['지하철역'] == i].index\n",
    "        area = build_info.loc[index, '면적']\n",
    "        if float(area) == 0:\n",
    "            build_info.loc[index, :] = build_info1[build_info1['지하철역'] == i]\n",
    "        else:\n",
    "            build_info1.drop(index=build_info1[build_info1['지하철역'] == i].index, inplace=True)"
   ]
  },
  {
   "cell_type": "code",
   "execution_count": 17,
   "metadata": {},
   "outputs": [],
   "source": [
    "# 면적 정보가 없는 역 삭제\n",
    "build_info1.drop(index = build_info1[build_info1['면적'] == 0].index, inplace=True)"
   ]
  },
  {
   "cell_type": "code",
   "execution_count": 18,
   "metadata": {},
   "outputs": [],
   "source": [
    "org = pd.concat([build_info, build_info1], ignore_index=True)"
   ]
  },
  {
   "cell_type": "code",
   "execution_count": 19,
   "metadata": {},
   "outputs": [],
   "source": [
    "# build_info와 겹치는 build_info2의 역데이터는 삭제\n",
    "for i in build_info['지하철역']:\n",
    "    if len(build_info1[build_info1['지하철역'].str.contains(i)]) != 0:\n",
    "        index = build_info[build_info['지하철역'] == i].index\n",
    "        area = build_info.loc[index, '면적']\n",
    "        if float(area) == 0:\n",
    "            build_info.loc[index, :] = build_info1[build_info1['지하철역'] == i]\n",
    "        else:\n",
    "            build_info1.drop(index=build_info1[build_info1['지하철역'] == i].index, inplace=True)"
   ]
  },
  {
   "cell_type": "code",
   "execution_count": 20,
   "metadata": {},
   "outputs": [],
   "source": [
    "# 면적 정보가 없는 역 삭제\n",
    "build_info2.drop(index = build_info2[build_info2['면적'] == 0].index, inplace=True)"
   ]
  },
  {
   "cell_type": "code",
   "execution_count": 21,
   "metadata": {},
   "outputs": [],
   "source": [
    "build_info = pd.concat([build_info, build_info1], ignore_index=True)"
   ]
  },
  {
   "cell_type": "code",
   "execution_count": null,
   "metadata": {},
   "outputs": [],
   "source": [
    "build_info.to_csv('../data/수정 후 데이터/build_info.csv', index=False)"
   ]
  },
  {
   "cell_type": "code",
   "execution_count": null,
   "metadata": {},
   "outputs": [],
   "source": []
  }
 ],
 "metadata": {
  "kernelspec": {
   "display_name": "base",
   "language": "python",
   "name": "python3"
  },
  "language_info": {
   "codemirror_mode": {
    "name": "ipython",
    "version": 3
   },
   "file_extension": ".py",
   "mimetype": "text/x-python",
   "name": "python",
   "nbconvert_exporter": "python",
   "pygments_lexer": "ipython3",
   "version": "3.9.16"
  },
  "orig_nbformat": 4
 },
 "nbformat": 4,
 "nbformat_minor": 2
}
